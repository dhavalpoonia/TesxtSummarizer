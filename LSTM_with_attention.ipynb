{
  "nbformat": 4,
  "nbformat_minor": 0,
  "metadata": {
    "colab": {
      "name": "LSTM_with_attention.ipynb",
      "provenance": [],
      "collapsed_sections": [],
      "machine_shape": "hm"
    },
    "kernelspec": {
      "name": "python3",
      "display_name": "Python 3"
    },
    "accelerator": "GPU"
  },
  "cells": [
    {
      "cell_type": "code",
      "metadata": {
        "id": "7jCBe0GpsmoS",
        "colab_type": "code",
        "outputId": "6306ed71-b0e2-4e80-de90-f0d335e886e3",
        "colab": {
          "base_uri": "https://localhost:8080/",
          "height": 121
        }
      },
      "source": [
        "from google.colab import drive\n",
        "drive.mount('/content/drive')"
      ],
      "execution_count": 3,
      "outputs": [
        {
          "output_type": "stream",
          "text": [
            "Go to this URL in a browser: https://accounts.google.com/o/oauth2/auth?client_id=947318989803-6bn6qk8qdgf4n4g3pfee6491hc0brc4i.apps.googleusercontent.com&redirect_uri=urn%3aietf%3awg%3aoauth%3a2.0%3aoob&response_type=code&scope=email%20https%3a%2f%2fwww.googleapis.com%2fauth%2fdocs.test%20https%3a%2f%2fwww.googleapis.com%2fauth%2fdrive%20https%3a%2f%2fwww.googleapis.com%2fauth%2fdrive.photos.readonly%20https%3a%2f%2fwww.googleapis.com%2fauth%2fpeopleapi.readonly\n",
            "\n",
            "Enter your authorization code:\n",
            "··········\n",
            "Mounted at /content/drive\n"
          ],
          "name": "stdout"
        }
      ]
    },
    {
      "cell_type": "code",
      "metadata": {
        "id": "hEEkd5Qos20x",
        "colab_type": "code",
        "colab": {}
      },
      "source": [
        "import pandas as pd\n",
        "import numpy as np\n",
        "import os\n",
        "import re\n",
        "import warnings\n",
        "warnings.filterwarnings(\"ignore\")\n",
        "from sklearn import datasets, linear_model\n",
        "from sklearn.model_selection import train_test_split\n",
        "from matplotlib import pyplot as plt\n",
        "from bs4 import BeautifulSoup\n",
        "from nltk.corpus import stopwords"
      ],
      "execution_count": 0,
      "outputs": []
    },
    {
      "cell_type": "code",
      "metadata": {
        "id": "Yb60OegVKFvA",
        "colab_type": "code",
        "outputId": "b2a4f648-0e44-44c0-bcc4-08bb9054f5e8",
        "colab": {
          "base_uri": "https://localhost:8080/",
          "height": 67
        }
      },
      "source": [
        "import nltk\n",
        "nltk.download('stopwords')"
      ],
      "execution_count": 5,
      "outputs": [
        {
          "output_type": "stream",
          "text": [
            "[nltk_data] Downloading package stopwords to /root/nltk_data...\n",
            "[nltk_data]   Unzipping corpora/stopwords.zip.\n"
          ],
          "name": "stdout"
        },
        {
          "output_type": "execute_result",
          "data": {
            "text/plain": [
              "True"
            ]
          },
          "metadata": {
            "tags": []
          },
          "execution_count": 5
        }
      ]
    },
    {
      "cell_type": "code",
      "metadata": {
        "id": "c61IdvLUtvKh",
        "colab_type": "code",
        "colab": {}
      },
      "source": [
        "# read data from the csv file (from the location it is stored)\n",
        "Data = pd.read_csv(r'/content/drive/My Drive/IDS_576_Project/wikihowAll.csv')\n",
        "Data = Data.astype(str)\n",
        "rows, columns = Data.shape"
      ],
      "execution_count": 0,
      "outputs": []
    },
    {
      "cell_type": "code",
      "metadata": {
        "id": "JS1b4wJtw_xG",
        "colab_type": "code",
        "outputId": "b4f9c875-efe4-4b30-8891-08e10b4f17be",
        "colab": {
          "base_uri": "https://localhost:8080/",
          "height": 402
        }
      },
      "source": [
        "Data"
      ],
      "execution_count": 7,
      "outputs": [
        {
          "output_type": "execute_result",
          "data": {
            "text/html": [
              "<div>\n",
              "<style scoped>\n",
              "    .dataframe tbody tr th:only-of-type {\n",
              "        vertical-align: middle;\n",
              "    }\n",
              "\n",
              "    .dataframe tbody tr th {\n",
              "        vertical-align: top;\n",
              "    }\n",
              "\n",
              "    .dataframe thead th {\n",
              "        text-align: right;\n",
              "    }\n",
              "</style>\n",
              "<table border=\"1\" class=\"dataframe\">\n",
              "  <thead>\n",
              "    <tr style=\"text-align: right;\">\n",
              "      <th></th>\n",
              "      <th>headline</th>\n",
              "      <th>title</th>\n",
              "      <th>text</th>\n",
              "    </tr>\n",
              "  </thead>\n",
              "  <tbody>\n",
              "    <tr>\n",
              "      <th>0</th>\n",
              "      <td>\\nKeep related supplies in the same area.,\\nMa...</td>\n",
              "      <td>How to Be an Organized Artist1</td>\n",
              "      <td>If you're a photographer, keep all the necess...</td>\n",
              "    </tr>\n",
              "    <tr>\n",
              "      <th>1</th>\n",
              "      <td>\\nCreate a sketch in the NeoPopRealist manner ...</td>\n",
              "      <td>How to Create a Neopoprealist Art Work</td>\n",
              "      <td>See the image for how this drawing develops s...</td>\n",
              "    </tr>\n",
              "    <tr>\n",
              "      <th>2</th>\n",
              "      <td>\\nGet a bachelor’s degree.,\\nEnroll in a studi...</td>\n",
              "      <td>How to Be a Visual Effects Artist1</td>\n",
              "      <td>It is possible to become a VFX artist without...</td>\n",
              "    </tr>\n",
              "    <tr>\n",
              "      <th>3</th>\n",
              "      <td>\\nStart with some experience or interest in ar...</td>\n",
              "      <td>How to Become an Art Investor</td>\n",
              "      <td>The best art investors do their research on t...</td>\n",
              "    </tr>\n",
              "    <tr>\n",
              "      <th>4</th>\n",
              "      <td>\\nKeep your reference materials, sketches, art...</td>\n",
              "      <td>How to Be an Organized Artist2</td>\n",
              "      <td>As you start planning for a project or work, ...</td>\n",
              "    </tr>\n",
              "    <tr>\n",
              "      <th>...</th>\n",
              "      <td>...</td>\n",
              "      <td>...</td>\n",
              "      <td>...</td>\n",
              "    </tr>\n",
              "    <tr>\n",
              "      <th>215360</th>\n",
              "      <td>\\nConsider changing the spelling of your name....</td>\n",
              "      <td>How to Pick a Stage Name3</td>\n",
              "      <td>If you have a name that you like, you might f...</td>\n",
              "    </tr>\n",
              "    <tr>\n",
              "      <th>215361</th>\n",
              "      <td>\\nTry out your name.,\\nDon’t legally change yo...</td>\n",
              "      <td>How to Pick a Stage Name4</td>\n",
              "      <td>Your name might sound great to you when you s...</td>\n",
              "    </tr>\n",
              "    <tr>\n",
              "      <th>215362</th>\n",
              "      <td>\\nUnderstand the process of relief printing.,\\...</td>\n",
              "      <td>How to Identify Prints1</td>\n",
              "      <td>Relief printing is the oldest and most tradit...</td>\n",
              "    </tr>\n",
              "    <tr>\n",
              "      <th>215363</th>\n",
              "      <td>\\nUnderstand the process of intaglio printing....</td>\n",
              "      <td>How to Identify Prints2</td>\n",
              "      <td>Intaglio is Italian for \"incis­ing,\" and corr...</td>\n",
              "    </tr>\n",
              "    <tr>\n",
              "      <th>215364</th>\n",
              "      <td>\\nUnderstand the different varieties of lithog...</td>\n",
              "      <td>How to Identify Prints3</td>\n",
              "      <td>Lithography is a big term often used to refer...</td>\n",
              "    </tr>\n",
              "  </tbody>\n",
              "</table>\n",
              "<p>215365 rows × 3 columns</p>\n",
              "</div>"
            ],
            "text/plain": [
              "                                                 headline  ...                                               text\n",
              "0       \\nKeep related supplies in the same area.,\\nMa...  ...   If you're a photographer, keep all the necess...\n",
              "1       \\nCreate a sketch in the NeoPopRealist manner ...  ...   See the image for how this drawing develops s...\n",
              "2       \\nGet a bachelor’s degree.,\\nEnroll in a studi...  ...   It is possible to become a VFX artist without...\n",
              "3       \\nStart with some experience or interest in ar...  ...   The best art investors do their research on t...\n",
              "4       \\nKeep your reference materials, sketches, art...  ...   As you start planning for a project or work, ...\n",
              "...                                                   ...  ...                                                ...\n",
              "215360  \\nConsider changing the spelling of your name....  ...   If you have a name that you like, you might f...\n",
              "215361  \\nTry out your name.,\\nDon’t legally change yo...  ...   Your name might sound great to you when you s...\n",
              "215362  \\nUnderstand the process of relief printing.,\\...  ...   Relief printing is the oldest and most tradit...\n",
              "215363  \\nUnderstand the process of intaglio printing....  ...   Intaglio is Italian for \"incis­ing,\" and corr...\n",
              "215364  \\nUnderstand the different varieties of lithog...  ...   Lithography is a big term often used to refer...\n",
              "\n",
              "[215365 rows x 3 columns]"
            ]
          },
          "metadata": {
            "tags": []
          },
          "execution_count": 7
        }
      ]
    },
    {
      "cell_type": "markdown",
      "metadata": {
        "id": "CpJ1lVDoE7TD",
        "colab_type": "text"
      },
      "source": [
        "**Cleaning** **the** **dataset**"
      ]
    },
    {
      "cell_type": "code",
      "metadata": {
        "id": "2OXM62dBxipQ",
        "colab_type": "code",
        "colab": {}
      },
      "source": [
        "df=Data[Data['text'].isnull()==False]\n",
        "df=Data[Data['headline'].isnull()==False]\n",
        "df=df[df['text']!='nan']\n",
        "\n",
        "df.drop_duplicates(subset=['text'],inplace=True)  #dropping duplicates"
      ],
      "execution_count": 0,
      "outputs": []
    },
    {
      "cell_type": "code",
      "metadata": {
        "id": "9-DOhC0UyBM4",
        "colab_type": "code",
        "outputId": "c51202a2-8fb2-4641-cb00-a4c86f2e47ce",
        "colab": {
          "base_uri": "https://localhost:8080/",
          "height": 402
        }
      },
      "source": [
        "df"
      ],
      "execution_count": 9,
      "outputs": [
        {
          "output_type": "execute_result",
          "data": {
            "text/html": [
              "<div>\n",
              "<style scoped>\n",
              "    .dataframe tbody tr th:only-of-type {\n",
              "        vertical-align: middle;\n",
              "    }\n",
              "\n",
              "    .dataframe tbody tr th {\n",
              "        vertical-align: top;\n",
              "    }\n",
              "\n",
              "    .dataframe thead th {\n",
              "        text-align: right;\n",
              "    }\n",
              "</style>\n",
              "<table border=\"1\" class=\"dataframe\">\n",
              "  <thead>\n",
              "    <tr style=\"text-align: right;\">\n",
              "      <th></th>\n",
              "      <th>headline</th>\n",
              "      <th>title</th>\n",
              "      <th>text</th>\n",
              "    </tr>\n",
              "  </thead>\n",
              "  <tbody>\n",
              "    <tr>\n",
              "      <th>0</th>\n",
              "      <td>\\nKeep related supplies in the same area.,\\nMa...</td>\n",
              "      <td>How to Be an Organized Artist1</td>\n",
              "      <td>If you're a photographer, keep all the necess...</td>\n",
              "    </tr>\n",
              "    <tr>\n",
              "      <th>1</th>\n",
              "      <td>\\nCreate a sketch in the NeoPopRealist manner ...</td>\n",
              "      <td>How to Create a Neopoprealist Art Work</td>\n",
              "      <td>See the image for how this drawing develops s...</td>\n",
              "    </tr>\n",
              "    <tr>\n",
              "      <th>2</th>\n",
              "      <td>\\nGet a bachelor’s degree.,\\nEnroll in a studi...</td>\n",
              "      <td>How to Be a Visual Effects Artist1</td>\n",
              "      <td>It is possible to become a VFX artist without...</td>\n",
              "    </tr>\n",
              "    <tr>\n",
              "      <th>3</th>\n",
              "      <td>\\nStart with some experience or interest in ar...</td>\n",
              "      <td>How to Become an Art Investor</td>\n",
              "      <td>The best art investors do their research on t...</td>\n",
              "    </tr>\n",
              "    <tr>\n",
              "      <th>4</th>\n",
              "      <td>\\nKeep your reference materials, sketches, art...</td>\n",
              "      <td>How to Be an Organized Artist2</td>\n",
              "      <td>As you start planning for a project or work, ...</td>\n",
              "    </tr>\n",
              "    <tr>\n",
              "      <th>...</th>\n",
              "      <td>...</td>\n",
              "      <td>...</td>\n",
              "      <td>...</td>\n",
              "    </tr>\n",
              "    <tr>\n",
              "      <th>215360</th>\n",
              "      <td>\\nConsider changing the spelling of your name....</td>\n",
              "      <td>How to Pick a Stage Name3</td>\n",
              "      <td>If you have a name that you like, you might f...</td>\n",
              "    </tr>\n",
              "    <tr>\n",
              "      <th>215361</th>\n",
              "      <td>\\nTry out your name.,\\nDon’t legally change yo...</td>\n",
              "      <td>How to Pick a Stage Name4</td>\n",
              "      <td>Your name might sound great to you when you s...</td>\n",
              "    </tr>\n",
              "    <tr>\n",
              "      <th>215362</th>\n",
              "      <td>\\nUnderstand the process of relief printing.,\\...</td>\n",
              "      <td>How to Identify Prints1</td>\n",
              "      <td>Relief printing is the oldest and most tradit...</td>\n",
              "    </tr>\n",
              "    <tr>\n",
              "      <th>215363</th>\n",
              "      <td>\\nUnderstand the process of intaglio printing....</td>\n",
              "      <td>How to Identify Prints2</td>\n",
              "      <td>Intaglio is Italian for \"incis­ing,\" and corr...</td>\n",
              "    </tr>\n",
              "    <tr>\n",
              "      <th>215364</th>\n",
              "      <td>\\nUnderstand the different varieties of lithog...</td>\n",
              "      <td>How to Identify Prints3</td>\n",
              "      <td>Lithography is a big term often used to refer...</td>\n",
              "    </tr>\n",
              "  </tbody>\n",
              "</table>\n",
              "<p>209178 rows × 3 columns</p>\n",
              "</div>"
            ],
            "text/plain": [
              "                                                 headline  ...                                               text\n",
              "0       \\nKeep related supplies in the same area.,\\nMa...  ...   If you're a photographer, keep all the necess...\n",
              "1       \\nCreate a sketch in the NeoPopRealist manner ...  ...   See the image for how this drawing develops s...\n",
              "2       \\nGet a bachelor’s degree.,\\nEnroll in a studi...  ...   It is possible to become a VFX artist without...\n",
              "3       \\nStart with some experience or interest in ar...  ...   The best art investors do their research on t...\n",
              "4       \\nKeep your reference materials, sketches, art...  ...   As you start planning for a project or work, ...\n",
              "...                                                   ...  ...                                                ...\n",
              "215360  \\nConsider changing the spelling of your name....  ...   If you have a name that you like, you might f...\n",
              "215361  \\nTry out your name.,\\nDon’t legally change yo...  ...   Your name might sound great to you when you s...\n",
              "215362  \\nUnderstand the process of relief printing.,\\...  ...   Relief printing is the oldest and most tradit...\n",
              "215363  \\nUnderstand the process of intaglio printing....  ...   Intaglio is Italian for \"incis­ing,\" and corr...\n",
              "215364  \\nUnderstand the different varieties of lithog...  ...   Lithography is a big term often used to refer...\n",
              "\n",
              "[209178 rows x 3 columns]"
            ]
          },
          "metadata": {
            "tags": []
          },
          "execution_count": 9
        }
      ]
    },
    {
      "cell_type": "code",
      "metadata": {
        "id": "yW3xqCcEyhDb",
        "colab_type": "code",
        "colab": {}
      },
      "source": [
        "stop_words = set(stopwords.words('english')) \n",
        "\n",
        "def text_cleaner(text,num):\n",
        "  str = text.lower()\n",
        "  str = BeautifulSoup(str, \"lxml\").text\n",
        "  str = re.sub(r'\\([^)]*\\)', '', str)\n",
        "  str = re.sub('\"','', str)\n",
        "  str = ' '.join([contraction_mapping[t] if t in contraction_mapping else t for t in str.split(\" \")])    \n",
        "  str = re.sub(r\"'s\\b\",\"\",str)\n",
        "  str = re.sub(\"[^a-zA-Z]\", \" \", str) \n",
        "  str = re.sub('[m]{2,}', 'mm', str)\n",
        "  if(num==0):\n",
        "    str = re.sub(r'\\.',' . ',str)\n",
        "  if(num==0):\n",
        "      tokens = [w for w in str.split() if not w in stop_words]\n",
        "      \n",
        "  else:\n",
        "      tokens=str.split()\n",
        "  long_words=[]\n",
        "  for i in tokens:\n",
        "      if len(i)>1:                                                 #removing short words\n",
        "          long_words.append(i)\n",
        "  return (\" \".join(long_words)).strip()"
      ],
      "execution_count": 0,
      "outputs": []
    },
    {
      "cell_type": "code",
      "metadata": {
        "id": "RUozoMqQ1Pes",
        "colab_type": "code",
        "colab": {}
      },
      "source": [
        "contraction_mapping = {\"ain't\": \"is not\", \"aren't\": \"are not\",\"can't\": \"cannot\", \"'cause\": \"because\", \"could've\": \"could have\", \"couldn't\": \"could not\",\"didn't\": \"did not\", \"doesn't\": \"does not\", \"don't\": \"do not\", \"hadn't\": \"had not\", \"hasn't\": \"has not\", \"haven't\": \"have not\",\"he'd\": \"he would\",\"he'll\": \"he will\", \"he's\": \"he is\", \"how'd\": \"how did\", \"how'd'y\": \"how do you\", \"how'll\": \"how will\", \"how's\": \"how is\",\"I'd\": \"I would\", \"I'd've\": \"I would have\", \"I'll\": \"I will\", \"I'll've\": \"I will have\",\"I'm\": \"I am\", \"I've\": \"I have\", \"i'd\": \"i would\",\"i'd've\": \"i would have\", \"i'll\": \"i will\",  \"i'll've\": \"i will have\",\"i'm\": \"i am\", \"i've\": \"i have\", \"isn't\": \"is not\", \"it'd\": \"it would\",\"it'd've\": \"it would have\", \"it'll\": \"it will\", \"it'll've\": \"it will have\",\"it's\": \"it is\", \"let's\": \"let us\", \"ma'am\": \"madam\",\"mayn't\": \"may not\", \"might've\": \"might have\",\"mightn't\": \"might not\",\"mightn't've\": \"might not have\", \"must've\": \"must have\",\"mustn't\": \"must not\", \"mustn't've\": \"must not have\", \"needn't\": \"need not\", \"needn't've\": \"need not have\",\"o'clock\": \"of the clock\",\"oughtn't\": \"ought not\", \"oughtn't've\": \"ought not have\", \"shan't\": \"shall not\", \"sha'n't\": \"shall not\", \"shan't've\": \"shall not have\",\"she'd\": \"she would\", \"she'd've\": \"she would have\", \"she'll\": \"she will\", \"she'll've\": \"she will have\", \"she's\": \"she is\",\"should've\": \"should have\", \"shouldn't\": \"should not\", \"shouldn't've\": \"should not have\", \"so've\": \"so have\",\"so's\": \"so as\",\"this's\": \"this is\",\"that'd\": \"that would\", \"that'd've\": \"that would have\", \"that's\": \"that is\", \"there'd\": \"there would\",\"there'd've\": \"there would have\", \"there's\": \"there is\", \"here's\": \"here is\",\"they'd\": \"they would\", \"they'd've\": \"they would have\",\"they'll\": \"they will\", \"they'll've\": \"they will have\", \"they're\": \"they are\", \"they've\": \"they have\", \"to've\": \"to have\",\"wasn't\": \"was not\", \"we'd\": \"we would\", \"we'd've\": \"we would have\", \"we'll\": \"we will\", \"we'll've\": \"we will have\", \"we're\": \"we are\",\"we've\": \"we have\", \"weren't\": \"were not\", \"what'll\": \"what will\", \"what'll've\": \"what will have\", \"what're\": \"what are\",\"what's\": \"what is\", \"what've\": \"what have\", \"when's\": \"when is\", \"when've\": \"when have\", \"where'd\": \"where did\", \"where's\": \"where is\",\"where've\": \"where have\", \"who'll\": \"who will\", \"who'll've\": \"who will have\", \"who's\": \"who is\", \"who've\": \"who have\",\"why's\": \"why is\", \"why've\": \"why have\", \"will've\": \"will have\", \"won't\": \"will not\", \"won't've\": \"will not have\",\"would've\": \"would have\", \"wouldn't\": \"would not\", \"wouldn't've\": \"would not have\", \"y'all\": \"you all\",\"y'all'd\": \"you all would\",\"y'all'd've\": \"you all would have\",\"y'all're\": \"you all are\",\"y'all've\": \"you all have\",\"you'd\": \"you would\", \"you'd've\": \"you would have\", \"you'll\": \"you will\", \"you'll've\": \"you will have\",\"you're\": \"you are\", \"you've\": \"you have\"}"
      ],
      "execution_count": 0,
      "outputs": []
    },
    {
      "cell_type": "code",
      "metadata": {
        "id": "1fmqZ6fb60np",
        "colab_type": "code",
        "colab": {}
      },
      "source": [
        "#call the function\n",
        "clean_text = []\n",
        "for t in df['text']:\n",
        "    clean_text.append(text_cleaner(t,0))"
      ],
      "execution_count": 0,
      "outputs": []
    },
    {
      "cell_type": "code",
      "metadata": {
        "id": "EVI9HLowAf62",
        "colab_type": "code",
        "colab": {}
      },
      "source": [
        "#call the function\n",
        "clean_summary = []\n",
        "for t in df['headline']:\n",
        "    clean_summary.append(text_cleaner(t,0))"
      ],
      "execution_count": 0,
      "outputs": []
    },
    {
      "cell_type": "code",
      "metadata": {
        "id": "a50C4-IU9Gb7",
        "colab_type": "code",
        "colab": {}
      },
      "source": [
        "df['text']=clean_text\n",
        "df['headline']=clean_summary\n",
        "\n",
        "df.replace('', np.nan, inplace=True)\n",
        "df.dropna(axis=0,inplace=True)"
      ],
      "execution_count": 0,
      "outputs": []
    },
    {
      "cell_type": "markdown",
      "metadata": {
        "id": "aC7uHaPoNcH5",
        "colab_type": "text"
      },
      "source": [
        "Updating the df"
      ]
    },
    {
      "cell_type": "code",
      "metadata": {
        "id": "qSCFwFWlHvbY",
        "colab_type": "code",
        "colab": {}
      },
      "source": [
        ""
      ],
      "execution_count": 0,
      "outputs": []
    },
    {
      "cell_type": "code",
      "metadata": {
        "id": "7abXKKirMMvr",
        "colab_type": "code",
        "outputId": "f39e10b0-c72c-4d00-86a1-b2122900d057",
        "colab": {
          "base_uri": "https://localhost:8080/",
          "height": 402
        }
      },
      "source": [
        "df"
      ],
      "execution_count": 15,
      "outputs": [
        {
          "output_type": "execute_result",
          "data": {
            "text/html": [
              "<div>\n",
              "<style scoped>\n",
              "    .dataframe tbody tr th:only-of-type {\n",
              "        vertical-align: middle;\n",
              "    }\n",
              "\n",
              "    .dataframe tbody tr th {\n",
              "        vertical-align: top;\n",
              "    }\n",
              "\n",
              "    .dataframe thead th {\n",
              "        text-align: right;\n",
              "    }\n",
              "</style>\n",
              "<table border=\"1\" class=\"dataframe\">\n",
              "  <thead>\n",
              "    <tr style=\"text-align: right;\">\n",
              "      <th></th>\n",
              "      <th>headline</th>\n",
              "      <th>title</th>\n",
              "      <th>text</th>\n",
              "    </tr>\n",
              "  </thead>\n",
              "  <tbody>\n",
              "    <tr>\n",
              "      <th>0</th>\n",
              "      <td>keep related supplies area make effort clean d...</td>\n",
              "      <td>How to Be an Organized Artist1</td>\n",
              "      <td>photographer keep necessary lens cords batteri...</td>\n",
              "    </tr>\n",
              "    <tr>\n",
              "      <th>1</th>\n",
              "      <td>create sketch neopoprealist manner future mura...</td>\n",
              "      <td>How to Create a Neopoprealist Art Work</td>\n",
              "      <td>see image drawing develops step step however i...</td>\n",
              "    </tr>\n",
              "    <tr>\n",
              "      <th>2</th>\n",
              "      <td>get bachelor degree enroll studio based progra...</td>\n",
              "      <td>How to Be a Visual Effects Artist1</td>\n",
              "      <td>possible become vfx artist without college deg...</td>\n",
              "    </tr>\n",
              "    <tr>\n",
              "      <th>3</th>\n",
              "      <td>start experience interest art understand diffe...</td>\n",
              "      <td>How to Become an Art Investor</td>\n",
              "      <td>best art investors research pieces art buy som...</td>\n",
              "    </tr>\n",
              "    <tr>\n",
              "      <th>4</th>\n",
              "      <td>keep reference materials sketches articles pho...</td>\n",
              "      <td>How to Be an Organized Artist2</td>\n",
              "      <td>start planning project work likely gathering s...</td>\n",
              "    </tr>\n",
              "    <tr>\n",
              "      <th>...</th>\n",
              "      <td>...</td>\n",
              "      <td>...</td>\n",
              "      <td>...</td>\n",
              "    </tr>\n",
              "    <tr>\n",
              "      <th>215360</th>\n",
              "      <td>consider changing spelling name avoid symbols ...</td>\n",
              "      <td>How to Pick a Stage Name3</td>\n",
              "      <td>name like might fiddle spelling see alternate ...</td>\n",
              "    </tr>\n",
              "    <tr>\n",
              "      <th>215361</th>\n",
              "      <td>try name legally change name register stage na...</td>\n",
              "      <td>How to Pick a Stage Name4</td>\n",
              "      <td>name might sound great say loud bedroom find s...</td>\n",
              "    </tr>\n",
              "    <tr>\n",
              "      <th>215362</th>\n",
              "      <td>understand process relief printing examine rim...</td>\n",
              "      <td>How to Identify Prints1</td>\n",
              "      <td>relief printing oldest traditional printing te...</td>\n",
              "    </tr>\n",
              "    <tr>\n",
              "      <th>215363</th>\n",
              "      <td>understand process intaglio printing look plat...</td>\n",
              "      <td>How to Identify Prints2</td>\n",
              "      <td>intaglio italian incis ing correspondingly rev...</td>\n",
              "    </tr>\n",
              "    <tr>\n",
              "      <th>215364</th>\n",
              "      <td>understand different varieties lithography mag...</td>\n",
              "      <td>How to Identify Prints3</td>\n",
              "      <td>lithography big term often used refer many dif...</td>\n",
              "    </tr>\n",
              "  </tbody>\n",
              "</table>\n",
              "<p>208675 rows × 3 columns</p>\n",
              "</div>"
            ],
            "text/plain": [
              "                                                 headline  ...                                               text\n",
              "0       keep related supplies area make effort clean d...  ...  photographer keep necessary lens cords batteri...\n",
              "1       create sketch neopoprealist manner future mura...  ...  see image drawing develops step step however i...\n",
              "2       get bachelor degree enroll studio based progra...  ...  possible become vfx artist without college deg...\n",
              "3       start experience interest art understand diffe...  ...  best art investors research pieces art buy som...\n",
              "4       keep reference materials sketches articles pho...  ...  start planning project work likely gathering s...\n",
              "...                                                   ...  ...                                                ...\n",
              "215360  consider changing spelling name avoid symbols ...  ...  name like might fiddle spelling see alternate ...\n",
              "215361  try name legally change name register stage na...  ...  name might sound great say loud bedroom find s...\n",
              "215362  understand process relief printing examine rim...  ...  relief printing oldest traditional printing te...\n",
              "215363  understand process intaglio printing look plat...  ...  intaglio italian incis ing correspondingly rev...\n",
              "215364  understand different varieties lithography mag...  ...  lithography big term often used refer many dif...\n",
              "\n",
              "[208675 rows x 3 columns]"
            ]
          },
          "metadata": {
            "tags": []
          },
          "execution_count": 15
        }
      ]
    },
    {
      "cell_type": "markdown",
      "metadata": {
        "id": "0fGQUB8kOyaO",
        "colab_type": "text"
      },
      "source": [
        "**Analyzing the sequence distribution**"
      ]
    },
    {
      "cell_type": "code",
      "metadata": {
        "id": "h306jOy2N6ui",
        "colab_type": "code",
        "outputId": "951268a3-70bd-4cd5-b1ba-466e7398bc5f",
        "colab": {
          "base_uri": "https://localhost:8080/",
          "height": 281
        }
      },
      "source": [
        "import matplotlib.pyplot as plt\n",
        "text_word_count = []\n",
        "headline_word_count = []\n",
        "\n",
        "# populate the lists with sentence lengths\n",
        "for i in df['text']:\n",
        "      temp=i.split()\n",
        "      text_word_count.append(len(temp))\n",
        "\n",
        "for j in df['headline']:\n",
        "  #print(j)\n",
        "  temp1=j.split()\n",
        "  headline_word_count.append(len(temp1))\n",
        "\n",
        "length_df = pd.DataFrame({'text':text_word_count, 'headline':headline_word_count})\n",
        "length_df.hist(bins = 30,range=[0,1000])\n",
        "plt.show()"
      ],
      "execution_count": 16,
      "outputs": [
        {
          "output_type": "display_data",
          "data": {
            "image/png": "[encoded data removed]",
            "text/plain": [
              "<Figure size 432x288 with 2 Axes>"
            ]
          },
          "metadata": {
            "tags": [],
            "needs_background": "light"
          }
        }
      ]
    },
    {
      "cell_type": "code",
      "metadata": {
        "id": "9ApVnUxJPXYT",
        "colab_type": "code",
        "colab": {}
      },
      "source": [
        "# From the graph\n",
        "# We can fix maximum length of text = 150 since most of the reviews have a length of 150 and maximum headline length of 50, since maximum headlines are of size 40\n",
        "\n",
        "max_len_text= 150\n",
        "max_len_headline=50"
      ],
      "execution_count": 0,
      "outputs": []
    },
    {
      "cell_type": "code",
      "metadata": {
        "id": "YBPwN7lmGj6v",
        "colab_type": "code",
        "outputId": "efbfd575-9869-4ea1-ff68-da628b3a3404",
        "colab": {
          "base_uri": "https://localhost:8080/",
          "height": 34
        }
      },
      "source": [
        "cnt=0\n",
        "for i in df['text']:\n",
        "    if(len(i.split())<=150):\n",
        "        cnt=cnt+1\n",
        "print(cnt/len(df['text']))"
      ],
      "execution_count": 18,
      "outputs": [
        {
          "output_type": "stream",
          "text": [
            "0.4835318078351504\n"
          ],
          "name": "stdout"
        }
      ]
    },
    {
      "cell_type": "markdown",
      "metadata": {
        "id": "dbjBRO7BIobl",
        "colab_type": "text"
      },
      "source": [
        "Selecting text and headlines below the maximum lengths "
      ]
    },
    {
      "cell_type": "code",
      "metadata": {
        "id": "DLEMfHWTIoHy",
        "colab_type": "code",
        "colab": {}
      },
      "source": [
        "text1 =np.array(df['text'])\n",
        "headline1=np.array(df['headline'])\n",
        "\n",
        "short_text=[]\n",
        "short_summary=[]\n",
        "\n",
        "for i in range(len(text1)):\n",
        "    if(len(headline1[i].split())<=50 and len(text1[i].split())<=150):\n",
        "        short_text.append(text1[i])\n",
        "        short_summary.append(headline1[i])\n",
        "        \n",
        "df=pd.DataFrame({'text':short_text,'summary':short_summary})"
      ],
      "execution_count": 0,
      "outputs": []
    },
    {
      "cell_type": "code",
      "metadata": {
        "id": "-2cdR4iXImwQ",
        "colab_type": "code",
        "colab": {}
      },
      "source": [
        "# Validating the lengths\n",
        "\n",
        "text1 =np.array(df['text'])\n",
        "headline1=np.array(df['summary'])\n",
        "\n",
        "\n",
        "for i in range(len(text1)):\n",
        "    if(len(headline1[i].split())>=150):\n",
        "      print(i)\n"
      ],
      "execution_count": 0,
      "outputs": []
    },
    {
      "cell_type": "code",
      "metadata": {
        "id": "ytlW3ABFo2-M",
        "colab_type": "code",
        "outputId": "a83046a5-efe1-491b-f40d-c108f7a077c9",
        "colab": {
          "base_uri": "https://localhost:8080/",
          "height": 70
        }
      },
      "source": [
        "print(df['text'][50],df['summary'][50],sep='\\n')"
      ],
      "execution_count": 21,
      "outputs": [
        {
          "output_type": "stream",
          "text": [
            "guy like every facebook status update instagram picture post better yet frequently comment posts sign wants interact may indicate likes look see comments people posts well comments frequently may reveal avid social media user however rarely likes comments posts sign might feelings publicly comments one photos posts respond eager start conversation way may reveal likes least enjoys messaging example may say great photo could respond saying vancouver last week beautiful city guy met starts liking commenting old photos sig interested means spent time looking back old photos probably wants know better enjoys looking pictures guy likes want connect follow variety different social media platforms example may add facebook snapchat start following twitter instagram adding number social media sites likely sign wants look posts photos selfies attempt get know better\n",
            "see interacts posts reply comments notice comments old pictures posts check see added multiple social media platforms\n"
          ],
          "name": "stdout"
        }
      ]
    },
    {
      "cell_type": "markdown",
      "metadata": {
        "id": "dGoWWbOiXbxK",
        "colab_type": "text"
      },
      "source": [
        "**Splitting data into train, test  --  70 - 30**"
      ]
    },
    {
      "cell_type": "code",
      "metadata": {
        "id": "R8BhLDriRM_m",
        "colab_type": "code",
        "colab": {}
      },
      "source": [
        "from sklearn.model_selection import train_test_split\n",
        "x_train,x_test,y_train,y_test=train_test_split(df['text'],df['summary'],test_size=0.3,random_state=0,shuffle=True) "
      ],
      "execution_count": 0,
      "outputs": []
    },
    {
      "cell_type": "code",
      "metadata": {
        "id": "xiYMy1YSS1jT",
        "colab_type": "code",
        "outputId": "9aa75c74-31d3-4a13-ee8e-e003955ed415",
        "colab": {
          "base_uri": "https://localhost:8080/",
          "height": 50
        }
      },
      "source": [
        "print(len(x_train))\n",
        "print(len(x_test))"
      ],
      "execution_count": 23,
      "outputs": [
        {
          "output_type": "stream",
          "text": [
            "59677\n",
            "25576\n"
          ],
          "name": "stdout"
        }
      ]
    },
    {
      "cell_type": "markdown",
      "metadata": {
        "id": "KJZvHT5MchLm",
        "colab_type": "text"
      },
      "source": [
        "Language Translation"
      ]
    },
    {
      "cell_type": "code",
      "metadata": {
        "id": "QnQWC6Q-ZHtB",
        "colab_type": "code",
        "colab": {}
      },
      "source": [
        "#from torchtext.data import Field, BucketIterator"
      ],
      "execution_count": 0,
      "outputs": []
    },
    {
      "cell_type": "code",
      "metadata": {
        "id": "ziCWLWO7Nf5s",
        "colab_type": "code",
        "colab": {}
      },
      "source": [
        "#pip install spacy\n",
        "#!python -m spacy download en"
      ],
      "execution_count": 0,
      "outputs": []
    },
    {
      "cell_type": "code",
      "metadata": {
        "id": "rVcK0Er0NjA3",
        "colab_type": "code",
        "colab": {}
      },
      "source": [
        "from __future__ import unicode_literals, print_function, division\n",
        "from io import open\n",
        "import unicodedata\n",
        "import string\n",
        "import re\n",
        "import random\n",
        "\n",
        "import torch\n",
        "import torch.nn as nn\n",
        "from torch import optim\n",
        "import torch.nn.functional as F\n",
        "\n",
        "device = torch.device(\"cuda\" if torch.cuda.is_available() else \"cpu\")"
      ],
      "execution_count": 0,
      "outputs": []
    },
    {
      "cell_type": "code",
      "metadata": {
        "id": "rT0hCmdcZIby",
        "colab_type": "code",
        "colab": {}
      },
      "source": [
        "SOS_token = 0\n",
        "EOS_token = 1\n",
        "\n",
        "class Lang:\n",
        "    def __init__(self, name):\n",
        "        self.name = name\n",
        "        self.word2index = {}\n",
        "        self.word2count = {}\n",
        "        self.index2word = {0: \"SOS\", 1: \"EOS\"}\n",
        "        self.n_words = 2  # Count SOS and EOS\n",
        "\n",
        "    def addSentence(self, sentence):\n",
        "        for word in sentence.split(' '):\n",
        "            self.addWord(word)\n",
        "\n",
        "    def addWord(self, word):\n",
        "        if word not in self.word2index:\n",
        "            self.word2index[word] = self.n_words\n",
        "            self.word2count[word] = 1\n",
        "            self.index2word[self.n_words] = word\n",
        "            self.n_words += 1\n",
        "        else:\n",
        "            self.word2count[word] += 1"
      ],
      "execution_count": 0,
      "outputs": []
    },
    {
      "cell_type": "code",
      "metadata": {
        "id": "_2uvBCtacriQ",
        "colab_type": "code",
        "colab": {}
      },
      "source": [
        "def readLangs(text, summary, reverse=False):\n",
        "    print(\"Reading lines...\")\n",
        "    \n",
        "    # Split every line into pairs and normalize\n",
        "    text=np.array(text)\n",
        "    summary=np.array(summary)\n",
        "    pairs = [[text[i],summary[i]] for i in range(len(text))]\n",
        "\n",
        "    # Reverse pairs, make Lang instances\n",
        "    if reverse:\n",
        "        pairs = [list(reversed(p)) for p in pairs]\n",
        "        input_lang = Lang(summary)\n",
        "        output_lang = Lang(text)\n",
        "    else:\n",
        "        input_lang = Lang(text)\n",
        "        output_lang = Lang(summary)\n",
        "\n",
        "    return input_lang, output_lang, pairs"
      ],
      "execution_count": 0,
      "outputs": []
    },
    {
      "cell_type": "code",
      "metadata": {
        "id": "bi7I1f8VQxqy",
        "colab_type": "code",
        "colab": {}
      },
      "source": [
        "def prepareData(lang1, lang2, reverse=False):\n",
        "    input_lang, output_lang, pairs = readLangs(lang1, lang2, reverse)\n",
        "    print(\"Read %s sentence pairs\" % len(pairs))\n",
        "    print(\"Counting words...\")\n",
        "    for pair in pairs:\n",
        "        input_lang.addSentence(pair[0])\n",
        "        output_lang.addSentence(pair[1])\n",
        "    print(\"Counted words:\")\n",
        "    print(input_lang.name,\"--------------------\", input_lang.n_words)\n",
        "    #print(output_lang.name, output_lang.n_words)\n",
        "    return input_lang, output_lang, pairs"
      ],
      "execution_count": 0,
      "outputs": []
    },
    {
      "cell_type": "code",
      "metadata": {
        "id": "lQEMoa3jQyDz",
        "colab_type": "code",
        "outputId": "ac0464f4-eb56-4086-b1bb-04578d5d2aa8",
        "colab": {
          "base_uri": "https://localhost:8080/",
          "height": 222
        }
      },
      "source": [
        "input_lang, output_lang, pairs = prepareData(x_train, y_train , False)\n",
        "#print(random.choice(pairs))\n"
      ],
      "execution_count": 30,
      "outputs": [
        {
          "output_type": "stream",
          "text": [
            "Reading lines...\n",
            "Read 59677 sentence pairs\n",
            "Counting words...\n",
            "Counted words:\n",
            "['save hardware later use remove styrofoam lining necessary proper fit grind sand ensure perfect fit'\n",
            " 'use mug microwave safe suitable drinking handle good shape mug must large enough make brownie make sure mug also hard sturdy glass mug mix wet ingredients together metal spoon break egg yolk pushing breaking yolk gently slowly add dry ingredient mixture stir well combined beating egg yolk adding wet ingredients mixture make brownie light fluffy place mug microwave operate minute seconds bakes puff rise fully cooked remove microwave oven mitts place safe place gets burned mistakenly cool minutes avoid spills brownie cooking place small dish bowl beneath mug helps catch brownie mix leaking microwave floor test brownie ready poke toothpick middle comes dry ready scoop vanilla ice cream sprinkle chocolate sprinkles add chopped walnuts spread marshmallow fluff creative many topping decisions choose go choosing serve enjoy eating brownie either eat brownie mug remove enjoy sweet delicious brownie'\n",
            " 'consolidator make sure travel agent use member professional organization like universal federation travel agents association national association career travel agents also look reviews travel agents consumer affairs website better business bureau whether booking business flight group travel others best meet travel agent first time person gives chance meet agent discuss specific travel needs longer conversation phone email allow make sure ask travel agents plenty questions clarify details trip know fees top price ticket help hotline call travel plans disrupted also ask travel agent best way communicate prefer phone email particularly important need contact travel met travel agent create schedule due dates phases trip includes knowing need traveler information agent need copies passports ids payments final payments due'\n",
            " ...\n",
            " 'app gray gear usually located home screen top half page near top page phone ringer sound adjusting able hear volume level setting want change alarm volume future slide change buttons setting position setting underneath volume slider enable adjust alarm volume using iphone volume buttons phone unlocked'\n",
            " 'make sure latest version downloaded google play store options bottom screen based availability vehicles area uberx cars seat passengers least expensive uber service get picked car like prius honda accord similar uberxl cars seat passengers cost uberx rides get picked either suv minivan uberselect entry level luxury car service uberselect cars seat get picked bmw mercedes audi something similar leather interior uberpool allows share ride split cost trip another rider headed direction uberblack uber luxury service expensive expect picked professional driver typically driving black suv luxury sedan box magnifying glass left side pickup location automatically set based gps need change tap pickup location box green dot left side type pickup address tap pickup address update pickup location request sent ride approved information driver appear receive message driver minute away'\n",
            " 'matter kind long yummy repeat necessary confectioner sugar'] -------------------- 59885\n"
          ],
          "name": "stdout"
        }
      ]
    },
    {
      "cell_type": "code",
      "metadata": {
        "id": "KzJDRhw1Q0uT",
        "colab_type": "code",
        "outputId": "407c901e-ccbf-48f1-b010-80d9f003f92f",
        "colab": {
          "base_uri": "https://localhost:8080/",
          "height": 70
        }
      },
      "source": [
        "pairs[1]"
      ],
      "execution_count": 31,
      "outputs": [
        {
          "output_type": "execute_result",
          "data": {
            "text/plain": [
              "['use mug microwave safe suitable drinking handle good shape mug must large enough make brownie make sure mug also hard sturdy glass mug mix wet ingredients together metal spoon break egg yolk pushing breaking yolk gently slowly add dry ingredient mixture stir well combined beating egg yolk adding wet ingredients mixture make brownie light fluffy place mug microwave operate minute seconds bakes puff rise fully cooked remove microwave oven mitts place safe place gets burned mistakenly cool minutes avoid spills brownie cooking place small dish bowl beneath mug helps catch brownie mix leaking microwave floor test brownie ready poke toothpick middle comes dry ready scoop vanilla ice cream sprinkle chocolate sprinkles add chopped walnuts spread marshmallow fluff creative many topping decisions choose go choosing serve enjoy eating brownie either eat brownie mug remove enjoy sweet delicious brownie',\n",
              " 'find good mug cooking mix ingredients heat microwave minute seconds add desired toppings serve']"
            ]
          },
          "metadata": {
            "tags": []
          },
          "execution_count": 31
        }
      ]
    },
    {
      "cell_type": "code",
      "metadata": {
        "id": "78iDN5buRyU2",
        "colab_type": "code",
        "colab": {}
      },
      "source": [
        "#---- Deep Model"
      ],
      "execution_count": 0,
      "outputs": []
    },
    {
      "cell_type": "code",
      "metadata": {
        "id": "PiIp2TKggfCT",
        "colab_type": "code",
        "colab": {}
      },
      "source": [
        "SOS_token = 0\n",
        "EOS_token = 1"
      ],
      "execution_count": 0,
      "outputs": []
    },
    {
      "cell_type": "code",
      "metadata": {
        "id": "QzhoiaCFTXrP",
        "colab_type": "code",
        "colab": {}
      },
      "source": [
        "def indexesFromSentence(lang, sentence):\n",
        "    return [lang.word2index[word] for word in sentence.split(' ')]\n",
        "\n",
        "def tensorFromSentence(lang, sentence):\n",
        "    indexes = indexesFromSentence(lang, sentence)\n",
        "    indexes.append(EOS_token)\n",
        "    return torch.tensor(indexes, dtype=torch.long, device=device).view(-1, 1)\n",
        "\n",
        "def tensorsFromPair(pair):\n",
        "    input_tensor = tensorFromSentence(input_lang, pair[0])\n",
        "    target_tensor = tensorFromSentence(output_lang, pair[1])\n",
        "    return (input_tensor, target_tensor)"
      ],
      "execution_count": 0,
      "outputs": []
    },
    {
      "cell_type": "code",
      "metadata": {
        "id": "6wMWZ-Vmfvpj",
        "colab_type": "code",
        "colab": {}
      },
      "source": [
        ""
      ],
      "execution_count": 0,
      "outputs": []
    },
    {
      "cell_type": "code",
      "metadata": {
        "id": "Z-i6UICKO20T",
        "colab_type": "code",
        "colab": {}
      },
      "source": [
        "from __future__ import unicode_literals, print_function, division\n",
        "from io import open\n",
        "import unicodedata\n",
        "import string\n",
        "import re\n",
        "import random\n",
        "\n",
        "import torch\n",
        "import torch.nn as nn\n",
        "from torch import optim\n",
        "import torch.nn.functional as F\n",
        "\n",
        "device = torch.device(\"cuda\" if torch.cuda.is_available() else \"cpu\")"
      ],
      "execution_count": 0,
      "outputs": []
    },
    {
      "cell_type": "code",
      "metadata": {
        "id": "DfJ_bgxzVmiL",
        "colab_type": "code",
        "colab": {}
      },
      "source": [
        "class EncoderRNN(nn.Module):\n",
        "    def __init__(self, input_size, hidden_size):\n",
        "        super(EncoderRNN, self).__init__()\n",
        "        self.hidden_size = hidden_size\n",
        "\n",
        "        self.embedding = nn.Embedding(input_size, hidden_size)\n",
        "        self.LSTM = nn.LSTM(hidden_size, hidden_size)\n",
        "\n",
        "    def forward(self, input, hidden):\n",
        "        embedded = self.embedding(input).view(1, 1, -1)\n",
        "        output = embedded\n",
        "        output, hidden = self.LSTM(output, hidden)\n",
        "        return output, hidden\n",
        "\n",
        "    def initHidden(self):\n",
        "        return (torch.zeros(1, 1, self.hidden_size, device=device),torch.zeros(1, 1, self.hidden_size, device=device)) "
      ],
      "execution_count": 0,
      "outputs": []
    },
    {
      "cell_type": "code",
      "metadata": {
        "id": "5I2dCJd8TbMJ",
        "colab_type": "code",
        "colab": {}
      },
      "source": [
        "class DecoderRNN(nn.Module):\n",
        "    def __init__(self, hidden_size, output_size):\n",
        "        super(DecoderRNN, self).__init__()\n",
        "        self.hidden_size = hidden_size\n",
        "\n",
        "        self.embedding = nn.Embedding(output_size, hidden_size)\n",
        "        self.LSTM = nn.LSTM(hidden_size, hidden_size)\n",
        "        self.out = nn.Linear(hidden_size, output_size)\n",
        "        self.softmax = nn.LogSoftmax(dim=2)\n",
        "\n",
        "    def forward(self, input, hidden):\n",
        "        output = self.embedding(input).view(1, 1, -1)\n",
        "        output = F.relu(output)\n",
        "        output, hidden = self.LSTM(output, hidden)\n",
        "        output = self.softmax(self.out(output[0]))\n",
        "        return output, hidden\n",
        "\n",
        "    def initHidden(self):\n",
        "        return torch.zeros(1, 1, self.hidden_size, device=device)"
      ],
      "execution_count": 0,
      "outputs": []
    },
    {
      "cell_type": "code",
      "metadata": {
        "id": "payXbX3mnHGh",
        "colab_type": "code",
        "colab": {}
      },
      "source": [
        "MAX_LENGTH=150"
      ],
      "execution_count": 0,
      "outputs": []
    },
    {
      "cell_type": "code",
      "metadata": {
        "id": "XqVupGeYm7Rb",
        "colab_type": "code",
        "colab": {}
      },
      "source": [
        "class AttnDecoderRNN(nn.Module):\n",
        "    def __init__(self, hidden_size, output_size, dropout_p=0.1, max_length=MAX_LENGTH):\n",
        "        super(AttnDecoderRNN, self).__init__()\n",
        "        self.hidden_size = hidden_size\n",
        "        self.output_size = output_size\n",
        "        self.dropout_p = dropout_p\n",
        "        self.max_length = max_length\n",
        "\n",
        "        self.embedding = nn.Embedding(self.output_size, self.hidden_size)\n",
        "        self.attn = nn.Linear(self.hidden_size*2 , self.max_length)\n",
        "        self.attn_combine = nn.Linear(self.hidden_size*2 , self.hidden_size)\n",
        "        self.dropout = nn.Dropout(self.dropout_p)\n",
        "        self.LSTM = nn.LSTM(self.hidden_size, self.hidden_size)\n",
        "        self.out = nn.Linear(self.hidden_size, self.output_size)\n",
        "\n",
        "        #print('Decoder --- atndecoder')\n",
        "\n",
        "    def forward(self, input, hidden, encoder_outputs):\n",
        "        #print(\"inside forward decoder\")\n",
        "        embedded = self.embedding(input).view(1, 1, -1)\n",
        "        embedded = self.dropout(embedded)\n",
        "\n",
        "        #print(\"embedded size\", embedded.size())\n",
        "        #print(embedded[0].size()) #1,300\n",
        "        #print(hidden[0].size()) # 1, 1, 300\n",
        "        #print(\"diff or not\")\n",
        "\n",
        "        #temp = torch.cat((embedded[0], hidden[0]), 1)\n",
        "        \n",
        "        #print(temp)\n",
        "        #print(temp.size())\n",
        "\n",
        "        attn_weights = F.softmax(self.attn(torch.cat((embedded[0], hidden[0][0]), 1)), dim=1)\n",
        "        #print(\"after getting attn weights softmax\")\n",
        "        #print(attn_weights.size())\n",
        "        attn_applied = torch.bmm(attn_weights.unsqueeze(0),\n",
        "                                 encoder_outputs.unsqueeze(0))\n",
        "\n",
        "        output = torch.cat((embedded[0], attn_applied[0]), 1)\n",
        "        output = self.attn_combine(output).unsqueeze(0)\n",
        "\n",
        "        output = F.relu(output)\n",
        "        output, hidden = self.LSTM(output, hidden)\n",
        "\n",
        "        output = F.log_softmax(self.out(output[0]), dim=1)\n",
        "        return output, hidden, attn_weights\n",
        "\n",
        "    def initHidden(self):\n",
        "        return torch.zeros(1, 1, self.hidden_size, device=device)"
      ],
      "execution_count": 0,
      "outputs": []
    },
    {
      "cell_type": "code",
      "metadata": {
        "id": "5F8X6eQoRXpX",
        "colab_type": "code",
        "colab": {}
      },
      "source": [
        ""
      ],
      "execution_count": 0,
      "outputs": []
    },
    {
      "cell_type": "code",
      "metadata": {
        "id": "0GCmpRFEO65P",
        "colab_type": "code",
        "colab": {}
      },
      "source": [
        "#teacher_forcing_ratio = 0.5\n",
        "def train(input_tensor, target_tensor, encoder, decoder, encoder_optimizer, decoder_optimizer, criterion, max_length=MAX_LENGTH):\n",
        "    encoder_hidden = encoder.initHidden()\n",
        "\n",
        "    encoder_optimizer.zero_grad()\n",
        "    decoder_optimizer.zero_grad()\n",
        "\n",
        "    input_length = input_tensor.size(0)\n",
        "    target_length = target_tensor.size(0)\n",
        "\n",
        "    encoder_outputs = torch.zeros(max_length, encoder.hidden_size, device=device)\n",
        "\n",
        "    loss = 0\n",
        "    #print('bbbbbbb-->>> input length', input_length)\n",
        "\n",
        "    for ei in range(input_length):\n",
        "        encoder_output, encoder_hidden = encoder(input_tensor[ei], encoder_hidden)\n",
        "        #print(\"priting before error\")\n",
        "        #print(encoder_output.size())\n",
        "        #print(encoder_outputs.size())\n",
        "        temp = encoder_output[0, 0]\n",
        "        #print(temp)\n",
        "        encoder_outputs[ei] = temp\n",
        "\n",
        "    decoder_input = torch.tensor([[SOS_token]], device=device)\n",
        "\n",
        "    decoder_hidden = encoder_hidden\n",
        "\n",
        "    #use_teacher_forcing = True if random.random() < teacher_forcing_ratio else False\n",
        "    #Without teacher forcing: use its own predictions as the next input\n",
        "\n",
        "    #print('aaaaa-->>>')\n",
        "\n",
        "    for di in range(target_length):\n",
        "      decoder_output, decoder_hidden, decoder_attention = decoder(\n",
        "      decoder_input, decoder_hidden, encoder_outputs)\n",
        "\n",
        "\n",
        "      topv, topi = decoder_output.topk(1)\n",
        "      \n",
        "      decoder_input = topi.squeeze().detach()  # detach from history as input\n",
        "      \n",
        "      loss += criterion(decoder_output, target_tensor[di])\n",
        "      \n",
        "      if decoder_input.item() == EOS_token:\n",
        "             break\n",
        "\n",
        "    loss.backward()\n",
        "\n",
        "    encoder_optimizer.step()\n",
        "    decoder_optimizer.step()\n",
        "\n",
        "    return loss.item() / target_length"
      ],
      "execution_count": 0,
      "outputs": []
    },
    {
      "cell_type": "code",
      "metadata": {
        "id": "VjMd-P0CRVqb",
        "colab_type": "code",
        "colab": {}
      },
      "source": [
        "import time\n",
        "import math\n",
        "\n",
        "\n",
        "def asMinutes(s):\n",
        "    m = math.floor(s / 60)\n",
        "    s -= m * 60\n",
        "    return '%dm %ds' % (m, s)\n",
        "\n",
        "\n",
        "def timeSince(since, percent):\n",
        "    now = time.time()\n",
        "    s = now - since\n",
        "    es = s / (percent)\n",
        "    rs = es - s\n",
        "    return '%s (- %s)' % (asMinutes(s), asMinutes(rs))"
      ],
      "execution_count": 0,
      "outputs": []
    },
    {
      "cell_type": "code",
      "metadata": {
        "id": "gs3wu28ydLtt",
        "colab_type": "code",
        "colab": {}
      },
      "source": [
        "import matplotlib.pyplot as plt\n",
        "plt.switch_backend('agg')\n",
        "import matplotlib.ticker as ticker\n",
        "import numpy as np\n",
        "\n",
        "\n",
        "def showPlot(points):\n",
        "    plt.figure()\n",
        "    fig, ax = plt.subplots()\n",
        "    # this locator puts ticks at regular intervals\n",
        "    loc = ticker.MultipleLocator(base=0.2)\n",
        "    ax.yaxis.set_major_locator(loc)\n",
        "    plt.plot(points)"
      ],
      "execution_count": 0,
      "outputs": []
    },
    {
      "cell_type": "code",
      "metadata": {
        "id": "LFkw0w3NdNpR",
        "colab_type": "code",
        "colab": {}
      },
      "source": [
        "def trainIters(encoder, decoder, n_iters, print_every=1000, plot_every=100, learning_rate=0.01):\n",
        "    print(\"Training....\")\n",
        "    start = time.time()\n",
        "    plot_losses = []\n",
        "    print_loss_total = 0  # Reset every print_every\n",
        "    plot_loss_total = 0  # Reset every plot_every\n",
        "\n",
        "    encoder_optimizer = optim.SGD(encoder.parameters(), lr=learning_rate)\n",
        "    decoder_optimizer = optim.SGD(decoder.parameters(), lr=learning_rate)\n",
        "    training_pairs = [tensorsFromPair(random.choice(pairs))\n",
        "                      for i in range(n_iters)]\n",
        "    criterion = nn.NLLLoss()\n",
        "\n",
        "    for iter in range(1, n_iters + 1):\n",
        "        if iter% 1000 == 0:\n",
        "            print(iter,\"/\",n_iters + 1)\n",
        "        training_pair = training_pairs[iter - 1]\n",
        "        input_tensor = training_pair[0]\n",
        "        target_tensor = training_pair[1]\n",
        "\n",
        "        input_length = input_tensor.size(0)\n",
        "        if(input_length > 150):\n",
        "          #print(input_length)\n",
        "          continue\n",
        "      \n",
        "        loss = train(input_tensor, target_tensor, encoder,decoder, encoder_optimizer, decoder_optimizer, criterion)\n",
        "        print_loss_total += loss\n",
        "        plot_loss_total += loss\n",
        "\n",
        "        if iter % print_every == 0:\n",
        "            print_loss_avg = print_loss_total / print_every\n",
        "            print_loss_total = 0\n",
        "            print('%s (%d %d%%) %.4f' % (timeSince(start, iter / n_iters),\n",
        "                                         iter, iter / n_iters * 100, print_loss_avg))\n",
        "\n",
        "        if iter % plot_every == 0:\n",
        "            plot_loss_avg = plot_loss_total / plot_every\n",
        "            plot_losses.append(plot_loss_avg)\n",
        "            plot_loss_total = 0\n",
        "\n",
        "    showPlot(plot_losses)"
      ],
      "execution_count": 0,
      "outputs": []
    },
    {
      "cell_type": "code",
      "metadata": {
        "id": "R7i2tbx2dTNv",
        "colab_type": "code",
        "colab": {}
      },
      "source": [
        "def evaluate(encoder, decoder, sentence, max_length=MAX_LENGTH):\n",
        "    with torch.no_grad():\n",
        "        input_tensor = tensorFromSentence(input_lang, sentence)\n",
        "        input_length = input_tensor.size()[0]\n",
        "        encoder_hidden = encoder.initHidden()\n",
        "\n",
        "        encoder_outputs = torch.zeros(max_length, encoder.hidden_size, device=device)\n",
        "\n",
        "        for ei in range(input_length):\n",
        "            encoder_output, encoder_hidden = encoder(input_tensor[ei],encoder_hidden)\n",
        "            encoder_outputs[ei] += encoder_output[0, 0]\n",
        "\n",
        "        decoder_input = torch.tensor([[SOS_token]], device=device)  # SOS\n",
        "\n",
        "        decoder_hidden = encoder_hidden\n",
        "\n",
        "        decoded_words = []\n",
        "        decoder_attentions = torch.zeros(max_length, max_length)\n",
        "\n",
        "        #print('cccccc->>>>')\n",
        "\n",
        "        for di in range(max_length):\n",
        "            decoder_output, decoder_hidden, decoder_attention = decoder(\n",
        "                decoder_input, decoder_hidden, encoder_outputs)\n",
        "            decoder_attentions[di] = decoder_attention.data\n",
        "            topv, topi = decoder_output.data.topk(1)\n",
        "            if topi.item() == EOS_token:\n",
        "                decoded_words.append('<EOS>')\n",
        "                break\n",
        "            else:\n",
        "                decoded_words.append(output_lang.index2word[topi.item()])\n",
        "\n",
        "            decoder_input = topi.squeeze().detach()\n",
        "\n",
        "        return decoded_words, decoder_attentions[:di + 1]"
      ],
      "execution_count": 0,
      "outputs": []
    },
    {
      "cell_type": "code",
      "metadata": {
        "id": "uO94wpqTe7PZ",
        "colab_type": "code",
        "colab": {}
      },
      "source": [
        "def evaluateRandomly(encoder, decoder, n=5):\n",
        "    text=list()\n",
        "    headline=list()\n",
        "    pred_headline=list()    \n",
        "    for i in range(n):\n",
        "        pair = random.choice(pairs)\n",
        "        \n",
        "        if(len(pair[0].split())>=150):\n",
        "          continue\n",
        "        else:\n",
        "          if(i%1000==0):\n",
        "            print(i*100/n,\"% complete\")\n",
        "          \n",
        "          #print('>', pair[0])\n",
        "          text.append(pair[0])\n",
        "          #print('=', pair[1])\n",
        "          headline.append(pair[1])\n",
        "          output_words, attentions = evaluate(encoder, decoder, pair[0])\n",
        "          output_sentence = ' '.join(output_words)\n",
        "          pred_headline.append(output_sentence)\n",
        "          #print('<', output_sentence)\n",
        "          #print('')\n",
        "    return(text,headline,pred_headline)"
      ],
      "execution_count": 0,
      "outputs": []
    },
    {
      "cell_type": "code",
      "metadata": {
        "id": "KuKv9Q9xe7-Y",
        "colab_type": "code",
        "outputId": "82b51a52-03a6-4eba-a7e9-c9994e01dfa8",
        "colab": {
          "base_uri": "https://localhost:8080/",
          "height": 1000
        }
      },
      "source": [
        "hidden_size = 300\n",
        "encoder1 = EncoderRNN(input_lang.n_words, hidden_size).to(device)\n",
        "attn_decoder1 = AttnDecoderRNN(hidden_size, output_lang.n_words, dropout_p=0.1).to(device)\n",
        "\n",
        "trainIters(encoder1, attn_decoder1, 150000, print_every=1000)"
      ],
      "execution_count": 46,
      "outputs": [
        {
          "output_type": "stream",
          "text": [
            "Training....\n",
            "1000 / 150001\n",
            "1m 35s (- 236m 10s) (1000 0%) 2.2282\n",
            "2000 / 150001\n",
            "2m 59s (- 221m 26s) (2000 1%) 2.3739\n",
            "3000 / 150001\n",
            "4m 26s (- 217m 23s) (3000 2%) 2.7115\n",
            "4000 / 150001\n",
            "5m 54s (- 215m 51s) (4000 2%) 3.0980\n",
            "5000 / 150001\n",
            "7m 23s (- 214m 10s) (5000 3%) 3.0176\n",
            "6000 / 150001\n",
            "8m 53s (- 213m 23s) (6000 4%) 3.3115\n",
            "7000 / 150001\n",
            "10m 24s (- 212m 40s) (7000 4%) 3.3324\n",
            "8000 / 150001\n",
            "11m 48s (- 209m 43s) (8000 5%) 3.0211\n",
            "9000 / 150001\n",
            "13m 16s (- 207m 55s) (9000 6%) 3.0845\n",
            "10000 / 150001\n",
            "14m 43s (- 206m 5s) (10000 6%) 2.9608\n",
            "11000 / 150001\n",
            "16m 10s (- 204m 25s) (11000 7%) 3.0854\n",
            "12000 / 150001\n",
            "13000 / 150001\n",
            "19m 5s (- 201m 11s) (13000 8%) 5.7726\n",
            "14000 / 150001\n",
            "20m 37s (- 200m 25s) (14000 9%) 3.1662\n",
            "15000 / 150001\n",
            "22m 8s (- 199m 14s) (15000 10%) 3.2424\n",
            "16000 / 150001\n",
            "23m 35s (- 197m 34s) (16000 10%) 3.1002\n",
            "17000 / 150001\n",
            "25m 4s (- 196m 10s) (17000 11%) 2.9817\n",
            "18000 / 150001\n",
            "26m 34s (- 194m 51s) (18000 12%) 3.1510\n",
            "19000 / 150001\n",
            "28m 1s (- 193m 16s) (19000 12%) 2.9268\n",
            "20000 / 150001\n",
            "29m 31s (- 191m 56s) (20000 13%) 2.9329\n",
            "21000 / 150001\n",
            "31m 2s (- 190m 43s) (21000 14%) 3.4017\n",
            "22000 / 150001\n",
            "32m 31s (- 189m 16s) (22000 14%) 2.9702\n",
            "23000 / 150001\n",
            "33m 58s (- 187m 36s) (23000 15%) 3.0523\n",
            "24000 / 150001\n",
            "35m 30s (- 186m 26s) (24000 16%) 3.3077\n",
            "25000 / 150001\n",
            "36m 58s (- 184m 50s) (25000 16%) 3.2750\n",
            "26000 / 150001\n",
            "38m 27s (- 183m 23s) (26000 17%) 3.3451\n",
            "27000 / 150001\n",
            "39m 58s (- 182m 8s) (27000 18%) 3.3137\n",
            "28000 / 150001\n",
            "41m 30s (- 180m 53s) (28000 18%) 3.4586\n",
            "29000 / 150001\n",
            "42m 58s (- 179m 20s) (29000 19%) 3.1795\n",
            "30000 / 150001\n",
            "44m 26s (- 177m 47s) (30000 20%) 3.2433\n",
            "31000 / 150001\n",
            "45m 57s (- 176m 24s) (31000 20%) 3.2852\n",
            "32000 / 150001\n",
            "47m 26s (- 174m 57s) (32000 21%) 3.2248\n",
            "33000 / 150001\n",
            "48m 58s (- 173m 39s) (33000 22%) 3.1108\n",
            "34000 / 150001\n",
            "50m 28s (- 172m 11s) (34000 22%) 3.2950\n",
            "35000 / 150001\n",
            "51m 59s (- 170m 49s) (35000 23%) 3.2612\n",
            "36000 / 150001\n",
            "53m 31s (- 169m 29s) (36000 24%) 3.2373\n",
            "37000 / 150001\n",
            "54m 57s (- 167m 50s) (37000 24%) 3.0123\n",
            "38000 / 150001\n",
            "56m 29s (- 166m 29s) (38000 25%) 3.1568\n",
            "39000 / 150001\n",
            "57m 59s (- 165m 3s) (39000 26%) 3.1628\n",
            "40000 / 150001\n",
            "59m 27s (- 163m 31s) (40000 26%) 3.1985\n",
            "41000 / 150001\n",
            "60m 59s (- 162m 10s) (41000 27%) 3.2270\n",
            "42000 / 150001\n",
            "62m 32s (- 160m 48s) (42000 28%) 3.4607\n",
            "43000 / 150001\n",
            "64m 2s (- 159m 22s) (43000 28%) 3.4258\n",
            "44000 / 150001\n",
            "65m 33s (- 157m 57s) (44000 29%) 3.2201\n",
            "45000 / 150001\n",
            "67m 6s (- 156m 34s) (45000 30%) 3.3627\n",
            "46000 / 150001\n",
            "68m 36s (- 155m 7s) (46000 30%) 3.1791\n",
            "47000 / 150001\n",
            "70m 8s (- 153m 43s) (47000 31%) 3.3432\n",
            "48000 / 150001\n",
            "71m 41s (- 152m 20s) (48000 32%) 3.2489\n",
            "49000 / 150001\n",
            "73m 17s (- 151m 4s) (49000 32%) 3.4051\n",
            "50000 / 150001\n",
            "74m 47s (- 149m 34s) (50000 33%) 3.1962\n",
            "51000 / 150001\n",
            "76m 20s (- 148m 12s) (51000 34%) 3.4068\n",
            "52000 / 150001\n",
            "77m 51s (- 146m 43s) (52000 34%) 3.2382\n",
            "53000 / 150001\n",
            "79m 26s (- 145m 24s) (53000 35%) 3.4143\n",
            "54000 / 150001\n",
            "80m 59s (- 143m 59s) (54000 36%) 3.3419\n",
            "55000 / 150001\n",
            "82m 33s (- 142m 36s) (55000 36%) 3.3606\n",
            "56000 / 150001\n",
            "84m 4s (- 141m 7s) (56000 37%) 3.4175\n",
            "57000 / 150001\n",
            "85m 39s (- 139m 45s) (57000 38%) 3.2866\n",
            "58000 / 150001\n",
            "87m 13s (- 138m 22s) (58000 38%) 3.2496\n",
            "59000 / 150001\n",
            "88m 46s (- 136m 55s) (59000 39%) 3.5253\n",
            "60000 / 150001\n",
            "90m 17s (- 135m 26s) (60000 40%) 3.2081\n",
            "61000 / 150001\n",
            "91m 50s (- 134m 0s) (61000 40%) 3.3567\n",
            "62000 / 150001\n",
            "93m 23s (- 132m 33s) (62000 41%) 3.3920\n",
            "63000 / 150001\n",
            "94m 56s (- 131m 6s) (63000 42%) 3.4786\n",
            "64000 / 150001\n",
            "96m 31s (- 129m 41s) (64000 42%) 3.4872\n",
            "65000 / 150001\n",
            "98m 0s (- 128m 10s) (65000 43%) 3.3215\n",
            "66000 / 150001\n",
            "99m 33s (- 126m 43s) (66000 44%) 3.3852\n",
            "67000 / 150001\n",
            "101m 9s (- 125m 18s) (67000 44%) 3.4052\n",
            "68000 / 150001\n",
            "102m 41s (- 123m 49s) (68000 45%) 3.4371\n",
            "69000 / 150001\n",
            "104m 11s (- 122m 19s) (69000 46%) 3.2270\n",
            "70000 / 150001\n",
            "105m 43s (- 120m 49s) (70000 46%) 3.2318\n",
            "71000 / 150001\n",
            "107m 20s (- 119m 25s) (71000 47%) 3.3133\n",
            "72000 / 150001\n",
            "108m 55s (- 118m 0s) (72000 48%) 3.4244\n",
            "73000 / 150001\n",
            "110m 28s (- 116m 31s) (73000 48%) 3.3908\n",
            "74000 / 150001\n",
            "112m 3s (- 115m 4s) (74000 49%) 3.5163\n",
            "75000 / 150001\n",
            "113m 35s (- 113m 35s) (75000 50%) 3.4336\n",
            "76000 / 150001\n",
            "115m 5s (- 112m 3s) (76000 50%) 3.2750\n",
            "77000 / 150001\n",
            "116m 36s (- 110m 33s) (77000 51%) 3.2347\n",
            "78000 / 150001\n",
            "118m 10s (- 109m 5s) (78000 52%) 3.2876\n",
            "79000 / 150001\n",
            "119m 41s (- 107m 34s) (79000 52%) 3.1272\n",
            "80000 / 150001\n",
            "121m 14s (- 106m 5s) (80000 53%) 3.2811\n",
            "81000 / 150001\n",
            "122m 49s (- 104m 38s) (81000 54%) 3.5721\n",
            "82000 / 150001\n",
            "83000 / 150001\n",
            "125m 56s (- 101m 39s) (83000 55%) 6.8086\n",
            "84000 / 150001\n",
            "127m 30s (- 100m 11s) (84000 56%) 3.3857\n",
            "85000 / 150001\n",
            "129m 1s (- 98m 40s) (85000 56%) 3.3643\n",
            "86000 / 150001\n",
            "130m 33s (- 97m 9s) (86000 57%) 3.4090\n",
            "87000 / 150001\n",
            "132m 7s (- 95m 40s) (87000 57%) 3.4813\n",
            "88000 / 150001\n",
            "133m 43s (- 94m 12s) (88000 58%) 3.3977\n",
            "89000 / 150001\n",
            "135m 16s (- 92m 43s) (89000 59%) 3.5371\n",
            "90000 / 150001\n",
            "136m 53s (- 91m 15s) (90000 60%) 3.6539\n",
            "91000 / 150001\n",
            "138m 28s (- 89m 46s) (91000 60%) 3.4408\n",
            "92000 / 150001\n",
            "140m 5s (- 88m 18s) (92000 61%) 3.4202\n",
            "93000 / 150001\n",
            "141m 39s (- 86m 49s) (93000 62%) 3.3559\n",
            "94000 / 150001\n",
            "143m 14s (- 85m 20s) (94000 62%) 3.5368\n",
            "95000 / 150001\n",
            "144m 50s (- 83m 51s) (95000 63%) 3.4900\n",
            "96000 / 150001\n",
            "146m 26s (- 82m 22s) (96000 64%) 3.4950\n",
            "97000 / 150001\n",
            "147m 57s (- 80m 50s) (97000 64%) 3.3198\n",
            "98000 / 150001\n",
            "149m 28s (- 79m 18s) (98000 65%) 3.3886\n",
            "99000 / 150001\n",
            "151m 2s (- 77m 48s) (99000 66%) 3.4311\n",
            "100000 / 150001\n",
            "152m 36s (- 76m 18s) (100000 66%) 3.4107\n",
            "101000 / 150001\n",
            "154m 9s (- 74m 47s) (101000 67%) 3.2804\n",
            "102000 / 150001\n",
            "155m 43s (- 73m 16s) (102000 68%) 3.2886\n",
            "103000 / 150001\n",
            "157m 17s (- 71m 46s) (103000 68%) 3.4991\n",
            "104000 / 150001\n",
            "158m 51s (- 70m 15s) (104000 69%) 3.5060\n",
            "105000 / 150001\n",
            "160m 26s (- 68m 45s) (105000 70%) 3.3939\n",
            "106000 / 150001\n",
            "161m 58s (- 67m 14s) (106000 70%) 3.3733\n",
            "107000 / 150001\n",
            "163m 32s (- 65m 43s) (107000 71%) 3.5016\n",
            "108000 / 150001\n",
            "165m 6s (- 64m 12s) (108000 72%) 3.3665\n",
            "109000 / 150001\n",
            "166m 40s (- 62m 41s) (109000 72%) 3.3724\n",
            "110000 / 150001\n",
            "168m 12s (- 61m 9s) (110000 73%) 3.3769\n",
            "111000 / 150001\n",
            "169m 42s (- 59m 37s) (111000 74%) 3.2020\n",
            "112000 / 150001\n",
            "171m 14s (- 58m 6s) (112000 74%) 3.3834\n",
            "113000 / 150001\n",
            "172m 46s (- 56m 34s) (113000 75%) 3.3952\n",
            "114000 / 150001\n",
            "174m 16s (- 55m 2s) (114000 76%) 3.4067\n",
            "115000 / 150001\n",
            "175m 51s (- 53m 31s) (115000 76%) 3.4807\n",
            "116000 / 150001\n",
            "177m 24s (- 52m 0s) (116000 77%) 3.2409\n",
            "117000 / 150001\n",
            "178m 56s (- 50m 28s) (117000 78%) 3.2525\n",
            "118000 / 150001\n",
            "180m 27s (- 48m 56s) (118000 78%) 3.3466\n",
            "119000 / 150001\n",
            "181m 59s (- 47m 24s) (119000 79%) 3.3394\n",
            "120000 / 150001\n",
            "183m 33s (- 45m 53s) (120000 80%) 3.5735\n",
            "121000 / 150001\n",
            "185m 7s (- 44m 22s) (121000 80%) 3.4494\n",
            "122000 / 150001\n",
            "186m 42s (- 42m 51s) (122000 81%) 3.4648\n",
            "123000 / 150001\n",
            "188m 19s (- 41m 20s) (123000 82%) 3.4556\n",
            "124000 / 150001\n",
            "189m 52s (- 39m 48s) (124000 82%) 3.3927\n",
            "125000 / 150001\n",
            "191m 27s (- 38m 17s) (125000 83%) 3.3544\n",
            "126000 / 150001\n",
            "193m 2s (- 36m 46s) (126000 84%) 3.2639\n",
            "127000 / 150001\n",
            "194m 35s (- 35m 14s) (127000 84%) 3.2714\n",
            "128000 / 150001\n",
            "196m 8s (- 33m 42s) (128000 85%) 3.4043\n",
            "129000 / 150001\n",
            "197m 46s (- 32m 11s) (129000 86%) 3.5456\n",
            "130000 / 150001\n",
            "199m 21s (- 30m 40s) (130000 86%) 3.3111\n",
            "131000 / 150001\n",
            "200m 55s (- 29m 8s) (131000 87%) 3.2618\n",
            "132000 / 150001\n",
            "202m 31s (- 27m 37s) (132000 88%) 3.4920\n",
            "133000 / 150001\n",
            "204m 5s (- 26m 5s) (133000 88%) 3.2542\n",
            "134000 / 150001\n",
            "205m 39s (- 24m 33s) (134000 89%) 3.4589\n",
            "135000 / 150001\n",
            "207m 11s (- 23m 1s) (135000 90%) 3.4521\n",
            "136000 / 150001\n",
            "208m 45s (- 21m 29s) (136000 90%) 3.4473\n",
            "137000 / 150001\n",
            "210m 20s (- 19m 57s) (137000 91%) 3.3711\n",
            "138000 / 150001\n",
            "211m 54s (- 18m 25s) (138000 92%) 3.4012\n",
            "139000 / 150001\n",
            "213m 29s (- 16m 53s) (139000 92%) 3.5054\n",
            "140000 / 150001\n",
            "215m 5s (- 15m 21s) (140000 93%) 3.3953\n",
            "141000 / 150001\n",
            "216m 38s (- 13m 49s) (141000 94%) 3.2942\n",
            "142000 / 150001\n",
            "218m 13s (- 12m 17s) (142000 94%) 3.4037\n",
            "143000 / 150001\n",
            "219m 46s (- 10m 45s) (143000 95%) 3.2801\n",
            "144000 / 150001\n",
            "221m 22s (- 9m 13s) (144000 96%) 3.3766\n",
            "145000 / 150001\n",
            "222m 59s (- 7m 41s) (145000 96%) 3.4959\n",
            "146000 / 150001\n",
            "224m 33s (- 6m 9s) (146000 97%) 3.4519\n",
            "147000 / 150001\n",
            "226m 7s (- 4m 36s) (147000 98%) 3.4316\n",
            "148000 / 150001\n",
            "227m 41s (- 3m 4s) (148000 98%) 3.4501\n",
            "149000 / 150001\n",
            "229m 18s (- 1m 32s) (149000 99%) 3.4763\n",
            "150000 / 150001\n",
            "230m 54s (- 0m 0s) (150000 100%) 3.5219\n"
          ],
          "name": "stdout"
        },
        {
          "output_type": "display_data",
          "data": {
            "text/plain": [
              "<Figure size 432x288 with 0 Axes>"
            ]
          },
          "metadata": {
            "tags": []
          }
        },
        {
          "output_type": "display_data",
          "data": {
            "image/png": "[encoded data removed]",
            "text/plain": [
              "<Figure size 432x288 with 1 Axes>"
            ]
          },
          "metadata": {
            "tags": [],
            "needs_background": "light"
          }
        }
      ]
    },
    {
      "cell_type": "code",
      "metadata": {
        "id": "_uH0qi_PS2fv",
        "colab_type": "code",
        "outputId": "d4d27ec9-50aa-44ae-bbf3-2f4bdfd1a72d",
        "colab": {
          "base_uri": "https://localhost:8080/",
          "height": 269
        }
      },
      "source": [
        "text,headline,pred_headline=evaluateRandomly(encoder1, attn_decoder1,15000)\n",
        "\n",
        "pred_df_LSTM=pd.DataFrame()\n",
        "\n",
        "pred_df_LSTM['text']=text\n",
        "pred_df_LSTM['headline']=headline\n",
        "pred_df_LSTM['pred_headline']=pred_headline"
      ],
      "execution_count": 47,
      "outputs": [
        {
          "output_type": "stream",
          "text": [
            "0.0 % complete\n",
            "6.666666666666667 % complete\n",
            "13.333333333333334 % complete\n",
            "20.0 % complete\n",
            "26.666666666666668 % complete\n",
            "33.333333333333336 % complete\n",
            "40.0 % complete\n",
            "46.666666666666664 % complete\n",
            "53.333333333333336 % complete\n",
            "60.0 % complete\n",
            "66.66666666666667 % complete\n",
            "73.33333333333333 % complete\n",
            "80.0 % complete\n",
            "86.66666666666667 % complete\n",
            "93.33333333333333 % complete\n"
          ],
          "name": "stdout"
        }
      ]
    },
    {
      "cell_type": "code",
      "metadata": {
        "id": "sFw6prOqtsE2",
        "colab_type": "code",
        "colab": {
          "base_uri": "https://localhost:8080/",
          "height": 289
        },
        "outputId": "c61aacf0-38d2-475f-f8ba-e028e5815731"
      },
      "source": [
        "for i in range(105,110):\n",
        "  print(\"original Summary>>>\",pred_df_LSTM.iloc[i]['headline'])\n",
        "  print(\"Predicted Summary>>>\",pred_df_LSTM.iloc[i]['pred_headline'])\n",
        "  print('-----------------------------------------------------------------------')"
      ],
      "execution_count": 48,
      "outputs": [
        {
          "output_type": "stream",
          "text": [
            "original Summary>>> click profile picture upper right corner select settings select privacy permissions scroll defaults new uploads section edit able see comment add notes add people change default setting anyone allow friends family see images click save settings\n",
            "Predicted Summary>>> open click website click select click click select click click select click click <EOS>\n",
            "-----------------------------------------------------------------------\n",
            "original Summary>>> conditioning key know basics learn fundamentals move elite wrestler moves learn counters moves hopefully get position less dangerous situation stand key escape move perform review moves know head get practice little early work practice partner never starve ask help practice makes perfect heart urge win always one step front opponents\n",
            "Predicted Summary>>> talk parents time take look get <EOS>\n",
            "-----------------------------------------------------------------------\n",
            "original Summary>>> apply pressure defecating soften stools water foods medicine soak warm bathtub apply witch hazel ask doctor medications\n",
            "Predicted Summary>>> take skin water water water water water water <EOS>\n",
            "-----------------------------------------------------------------------\n",
            "original Summary>>> pour thai coffee powder saucepan medium heat add sugar leave coffee mixture cool strain coffee cool chill ready serve\n",
            "Predicted Summary>>> pour ingredients add add add add add add add add add add <EOS>\n",
            "-----------------------------------------------------------------------\n",
            "original Summary>>> click apple menu select system preferences adjust mouse settings selecting mouse option adjust magic mouse settings adjust trackpad settings selecting trackpad option system preferences\n",
            "Predicted Summary>>> open settings open open settings open <EOS>\n",
            "-----------------------------------------------------------------------\n"
          ],
          "name": "stdout"
        }
      ]
    },
    {
      "cell_type": "code",
      "metadata": {
        "id": "WibVGx9zwqaR",
        "colab_type": "code",
        "colab": {}
      },
      "source": [
        "import os\n",
        "os.chdir ('/content/drive/My Drive/IDS_576_Project')\n",
        "pred_df_LSTM.to_csv('Attention_LSTM_Pred.csv',sep='\\t',index=False,header=True)"
      ],
      "execution_count": 0,
      "outputs": []
    },
    {
      "cell_type": "code",
      "metadata": {
        "id": "1p6Jki1bwqX2",
        "colab_type": "code",
        "colab": {}
      },
      "source": [
        ""
      ],
      "execution_count": 0,
      "outputs": []
    },
    {
      "cell_type": "code",
      "metadata": {
        "id": "OV7y3sPRyfo8",
        "colab_type": "code",
        "colab": {}
      },
      "source": [
        "def calculate_rogue(src_trg, pred_trg):\n",
        "      \n",
        "  #cut off <eos> token\n",
        "  pred_trg = pred_trg[:-6]\n",
        "\n",
        "  \n",
        "  if (len(pred_trg) == 0):\n",
        "    rogue_score = 0.0\n",
        "  else:\n",
        "    s = rouge.get_scores(pred_trg, src_trg, avg= True)\n",
        "    rogue_score = s['rouge-1']['f']\n",
        "    \n",
        "  return rogue_score"
      ],
      "execution_count": 0,
      "outputs": []
    },
    {
      "cell_type": "code",
      "metadata": {
        "id": "geOZvrpTyf9T",
        "colab_type": "code",
        "colab": {}
      },
      "source": [
        "attn_plot_threshold = 0.45\n",
        "\n",
        "def evaluateRandomlyprint_1(encoder, decoder, n=5):\n",
        "    text=list()\n",
        "    headline=list()\n",
        "    pred_headline=list()    \n",
        "\n",
        "    for i in range(n):\n",
        "        pair = random.choice(pairs)\n",
        "        \n",
        "        if(len(pair[0].split())>=150):\n",
        "          continue\n",
        "        else:\n",
        "          #if(i%1000==0):\n",
        "           # print(i*100/n,\"% complete\")\n",
        "          \n",
        "          tokenized_input = nltk.word_tokenize(pair[0])\n",
        "          #print(len(tokenized_input))\n",
        "          output_words, attentions = evaluate(encoder, decoder, pair[0])\n",
        "\n",
        "          output_sentence = ' '.join(output_words)\n",
        "\n",
        "          #get rogue f-score -- need to pass tokenized version here\n",
        "          #print(pair[0])\n",
        "          #print(output_sentence)\n",
        "          score = calculate_rogue(pair[0], output_sentence)\n",
        "          #if(score>0.25):\n",
        "           # print(score)\n",
        "\n",
        "          if score > attn_plot_threshold:\n",
        "            plot_attention(tokenized_input, output_words, attentions, i)\n",
        "          \n",
        "          #print('<', output_sentence)\n",
        "          #print('')\n",
        "    #return(text,headline,pred_headline)"
      ],
      "execution_count": 0,
      "outputs": []
    },
    {
      "cell_type": "code",
      "metadata": {
        "id": "G9_ILKf8yh9m",
        "colab_type": "code",
        "colab": {}
      },
      "source": [
        "#sentence, translation, attention\n",
        "def plot_attention(sentence, predicted_sentence, attention, i):\n",
        "  plt.rcParams.update({'font.size': 18})\n",
        "\n",
        "  fig = plt.figure(figsize=(30,30))\n",
        "\n",
        "  ax = fig.add_subplot(1,1,1)\n",
        "  #print(len(attention))  \n",
        "  ax.matshow(attention, cmap='bone')\n",
        "  #fig.colorbar(cax)\n",
        "  #fontdict = {'fontsize': 25}\n",
        "\n",
        "  #ax.set_xticklabels([''] + sentence.split(' ') +['<EOS>'], rotation=90)\n",
        "  #ax.set_yticklabels([''] + predicted_sentence)\n",
        "\n",
        "  ax.set_xticklabels(['']+['<sos>']+[t.lower() for t in sentence]+['<eos>'], rotation=90)\n",
        "  ax.set_yticklabels(['']+predicted_sentence)\n",
        "\n",
        "  ax.xaxis.set_major_locator(ticker.MultipleLocator(3))\n",
        "  ax.yaxis.set_major_locator(ticker.MultipleLocator(3))\n",
        "  #xlim(right=3)\n",
        "\n",
        "  plt.show()\n",
        "  #plt.close()"
      ],
      "execution_count": 0,
      "outputs": []
    },
    {
      "cell_type": "code",
      "metadata": {
        "id": "WVb9wutXyjqy",
        "colab_type": "code",
        "colab": {
          "base_uri": "https://localhost:8080/",
          "height": 573
        },
        "outputId": "f5e7c84b-ad09-49de-a10e-8cc857b76e2b"
      },
      "source": [
        "!pip install rouge\n",
        "import nltk\n",
        "nltk.download('punkt')\n",
        "from rouge import Rouge\n",
        "\n",
        "rouge = Rouge()\n",
        "\n",
        "\n",
        "evaluateRandomlyprint_1(encoder1, attn_decoder1,15000)\n",
        "#plt.close()"
      ],
      "execution_count": 54,
      "outputs": [
        {
          "output_type": "stream",
          "text": [
            "Requirement already satisfied: rouge in /usr/local/lib/python3.6/dist-packages (1.0.0)\n",
            "Requirement already satisfied: six in /usr/local/lib/python3.6/dist-packages (from rouge) (1.12.0)\n",
            "[nltk_data] Downloading package punkt to /root/nltk_data...\n",
            "[nltk_data]   Package punkt is already up-to-date!\n"
          ],
          "name": "stdout"
        },
        {
          "output_type": "display_data",
          "data": {
            "image/png": "[encoded data removed]",
            "text/plain": [
              "<Figure size 2160x2160 with 1 Axes>"
            ]
          },
          "metadata": {
            "tags": [],
            "needs_background": "light"
          }
        },
        {
          "output_type": "display_data",
          "data": {
            "image/png": "[encoded data removed]",
            "text/plain": [
              "<Figure size 2160x2160 with 1 Axes>"
            ]
          },
          "metadata": {
            "tags": [],
            "needs_background": "light"
          }
        },
        {
          "output_type": "display_data",
          "data": {
            "image/png": "[encoded data removed]",
            "text/plain": [
              "<Figure size 2160x2160 with 1 Axes>"
            ]
          },
          "metadata": {
            "tags": [],
            "needs_background": "light"
          }
        }
      ]
    },
    {
      "cell_type": "code",
      "metadata": {
        "id": "ATc2C77jqDzr",
        "colab_type": "code",
        "colab": {
          "base_uri": "https://localhost:8080/",
          "height": 300
        },
        "outputId": "971bd429-c056-43d9-f9fa-84a90f97e399"
      },
      "source": [
        "!pip install rouge\n",
        "import nltk\n",
        "nltk.download('punkt')\n",
        "from rouge import Rouge\n",
        "\n",
        "rouge = Rouge()\n",
        "\n",
        "\n",
        "evaluateRandomlyprint_1(encoder1, attn_decoder1,15000)\n",
        "#plt.close()"
      ],
      "execution_count": 55,
      "outputs": [
        {
          "output_type": "stream",
          "text": [
            "Requirement already satisfied: rouge in /usr/local/lib/python3.6/dist-packages (1.0.0)\n",
            "Requirement already satisfied: six in /usr/local/lib/python3.6/dist-packages (from rouge) (1.12.0)\n",
            "[nltk_data] Downloading package punkt to /root/nltk_data...\n",
            "[nltk_data]   Package punkt is already up-to-date!\n"
          ],
          "name": "stdout"
        },
        {
          "output_type": "display_data",
          "data": {
            "image/png": "[encoded data removed]",
            "text/plain": [
              "<Figure size 2160x2160 with 1 Axes>"
            ]
          },
          "metadata": {
            "tags": [],
            "needs_background": "light"
          }
        }
      ]
    }
  ]
}