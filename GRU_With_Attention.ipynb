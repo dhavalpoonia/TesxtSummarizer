{
  "nbformat": 4,
  "nbformat_minor": 0,
  "metadata": {
    "colab": {
      "name": "GRU_With_Attention.ipynb",
      "provenance": [],
      "collapsed_sections": [],
      "machine_shape": "hm"
    },
    "kernelspec": {
      "name": "python3",
      "display_name": "Python 3"
    },
    "accelerator": "GPU"
  },
  "cells": [
    {
      "cell_type": "code",
      "metadata": {
        "id": "8ZUzGcIueJPw",
        "colab_type": "code",
        "outputId": "a04011ef-6888-4747-b297-418bb06c94db",
        "colab": {
          "base_uri": "https://localhost:8080/",
          "height": 121
        }
      },
      "source": [
        "from google.colab import drive\n",
        "drive.mount('/content/drive')"
      ],
      "execution_count": 0,
      "outputs": [
        {
          "output_type": "stream",
          "text": [
            "Go to this URL in a browser: https://accounts.google.com/o/oauth2/auth?client_id=947318989803-6bn6qk8qdgf4n4g3pfee6491hc0brc4i.apps.googleusercontent.com&redirect_uri=urn%3aietf%3awg%3aoauth%3a2.0%3aoob&response_type=code&scope=email%20https%3a%2f%2fwww.googleapis.com%2fauth%2fdocs.test%20https%3a%2f%2fwww.googleapis.com%2fauth%2fdrive%20https%3a%2f%2fwww.googleapis.com%2fauth%2fdrive.photos.readonly%20https%3a%2f%2fwww.googleapis.com%2fauth%2fpeopleapi.readonly\n",
            "\n",
            "Enter your authorization code:\n",
            "··········\n",
            "Mounted at /content/drive\n"
          ],
          "name": "stdout"
        }
      ]
    },
    {
      "cell_type": "code",
      "metadata": {
        "id": "MllrZqg7eQ9Y",
        "colab_type": "code",
        "colab": {}
      },
      "source": [
        "import pandas as pd\n",
        "import numpy as np\n",
        "import os\n",
        "import re\n",
        "import warnings\n",
        "warnings.filterwarnings(\"ignore\")\n",
        "from sklearn import datasets, linear_model\n",
        "from sklearn.model_selection import train_test_split\n",
        "from matplotlib import pyplot as plt\n",
        "from bs4 import BeautifulSoup\n",
        "from nltk.corpus import stopwords"
      ],
      "execution_count": 0,
      "outputs": []
    },
    {
      "cell_type": "code",
      "metadata": {
        "id": "PpeBe0c4eYW2",
        "colab_type": "code",
        "outputId": "b54cf38a-6b84-4c60-dd75-868dd497f41a",
        "colab": {
          "base_uri": "https://localhost:8080/",
          "height": 67
        }
      },
      "source": [
        "import nltk\n",
        "nltk.download('stopwords')"
      ],
      "execution_count": 0,
      "outputs": [
        {
          "output_type": "stream",
          "text": [
            "[nltk_data] Downloading package stopwords to /root/nltk_data...\n",
            "[nltk_data]   Unzipping corpora/stopwords.zip.\n"
          ],
          "name": "stdout"
        },
        {
          "output_type": "execute_result",
          "data": {
            "text/plain": [
              "True"
            ]
          },
          "metadata": {
            "tags": []
          },
          "execution_count": 4
        }
      ]
    },
    {
      "cell_type": "code",
      "metadata": {
        "id": "Sr1HjBX8eaCe",
        "colab_type": "code",
        "colab": {}
      },
      "source": [
        "# read data from the csv file (from the location it is stored)\n",
        "Data = pd.read_csv(r'/content/drive/My Drive/IDS_576_Project/wikihowAll.csv')\n",
        "Data = Data.astype(str)\n",
        "rows, columns = Data.shape"
      ],
      "execution_count": 0,
      "outputs": []
    },
    {
      "cell_type": "code",
      "metadata": {
        "id": "2qYfQiKJebOo",
        "colab_type": "code",
        "colab": {}
      },
      "source": [
        "df=Data[Data['text'].isnull()==False]\n",
        "df=Data[Data['headline'].isnull()==False]\n",
        "df=df[df['text']!='nan']\n",
        "\n",
        "df.drop_duplicates(subset=['text'],inplace=True)  #dropping duplicates"
      ],
      "execution_count": 0,
      "outputs": []
    },
    {
      "cell_type": "code",
      "metadata": {
        "id": "puYPQ9uHedsL",
        "colab_type": "code",
        "outputId": "4ed4f934-f59a-43df-87bf-2250a9b7b6fb",
        "colab": {
          "base_uri": "https://localhost:8080/",
          "height": 402
        }
      },
      "source": [
        "df"
      ],
      "execution_count": 0,
      "outputs": [
        {
          "output_type": "execute_result",
          "data": {
            "text/html": [
              "<div>\n",
              "<style scoped>\n",
              "    .dataframe tbody tr th:only-of-type {\n",
              "        vertical-align: middle;\n",
              "    }\n",
              "\n",
              "    .dataframe tbody tr th {\n",
              "        vertical-align: top;\n",
              "    }\n",
              "\n",
              "    .dataframe thead th {\n",
              "        text-align: right;\n",
              "    }\n",
              "</style>\n",
              "<table border=\"1\" class=\"dataframe\">\n",
              "  <thead>\n",
              "    <tr style=\"text-align: right;\">\n",
              "      <th></th>\n",
              "      <th>headline</th>\n",
              "      <th>title</th>\n",
              "      <th>text</th>\n",
              "    </tr>\n",
              "  </thead>\n",
              "  <tbody>\n",
              "    <tr>\n",
              "      <th>0</th>\n",
              "      <td>\\nKeep related supplies in the same area.,\\nMa...</td>\n",
              "      <td>How to Be an Organized Artist1</td>\n",
              "      <td>If you're a photographer, keep all the necess...</td>\n",
              "    </tr>\n",
              "    <tr>\n",
              "      <th>1</th>\n",
              "      <td>\\nCreate a sketch in the NeoPopRealist manner ...</td>\n",
              "      <td>How to Create a Neopoprealist Art Work</td>\n",
              "      <td>See the image for how this drawing develops s...</td>\n",
              "    </tr>\n",
              "    <tr>\n",
              "      <th>2</th>\n",
              "      <td>\\nGet a bachelor’s degree.,\\nEnroll in a studi...</td>\n",
              "      <td>How to Be a Visual Effects Artist1</td>\n",
              "      <td>It is possible to become a VFX artist without...</td>\n",
              "    </tr>\n",
              "    <tr>\n",
              "      <th>3</th>\n",
              "      <td>\\nStart with some experience or interest in ar...</td>\n",
              "      <td>How to Become an Art Investor</td>\n",
              "      <td>The best art investors do their research on t...</td>\n",
              "    </tr>\n",
              "    <tr>\n",
              "      <th>4</th>\n",
              "      <td>\\nKeep your reference materials, sketches, art...</td>\n",
              "      <td>How to Be an Organized Artist2</td>\n",
              "      <td>As you start planning for a project or work, ...</td>\n",
              "    </tr>\n",
              "    <tr>\n",
              "      <th>...</th>\n",
              "      <td>...</td>\n",
              "      <td>...</td>\n",
              "      <td>...</td>\n",
              "    </tr>\n",
              "    <tr>\n",
              "      <th>215360</th>\n",
              "      <td>\\nConsider changing the spelling of your name....</td>\n",
              "      <td>How to Pick a Stage Name3</td>\n",
              "      <td>If you have a name that you like, you might f...</td>\n",
              "    </tr>\n",
              "    <tr>\n",
              "      <th>215361</th>\n",
              "      <td>\\nTry out your name.,\\nDon’t legally change yo...</td>\n",
              "      <td>How to Pick a Stage Name4</td>\n",
              "      <td>Your name might sound great to you when you s...</td>\n",
              "    </tr>\n",
              "    <tr>\n",
              "      <th>215362</th>\n",
              "      <td>\\nUnderstand the process of relief printing.,\\...</td>\n",
              "      <td>How to Identify Prints1</td>\n",
              "      <td>Relief printing is the oldest and most tradit...</td>\n",
              "    </tr>\n",
              "    <tr>\n",
              "      <th>215363</th>\n",
              "      <td>\\nUnderstand the process of intaglio printing....</td>\n",
              "      <td>How to Identify Prints2</td>\n",
              "      <td>Intaglio is Italian for \"incis­ing,\" and corr...</td>\n",
              "    </tr>\n",
              "    <tr>\n",
              "      <th>215364</th>\n",
              "      <td>\\nUnderstand the different varieties of lithog...</td>\n",
              "      <td>How to Identify Prints3</td>\n",
              "      <td>Lithography is a big term often used to refer...</td>\n",
              "    </tr>\n",
              "  </tbody>\n",
              "</table>\n",
              "<p>209178 rows × 3 columns</p>\n",
              "</div>"
            ],
            "text/plain": [
              "                                                 headline  ...                                               text\n",
              "0       \\nKeep related supplies in the same area.,\\nMa...  ...   If you're a photographer, keep all the necess...\n",
              "1       \\nCreate a sketch in the NeoPopRealist manner ...  ...   See the image for how this drawing develops s...\n",
              "2       \\nGet a bachelor’s degree.,\\nEnroll in a studi...  ...   It is possible to become a VFX artist without...\n",
              "3       \\nStart with some experience or interest in ar...  ...   The best art investors do their research on t...\n",
              "4       \\nKeep your reference materials, sketches, art...  ...   As you start planning for a project or work, ...\n",
              "...                                                   ...  ...                                                ...\n",
              "215360  \\nConsider changing the spelling of your name....  ...   If you have a name that you like, you might f...\n",
              "215361  \\nTry out your name.,\\nDon’t legally change yo...  ...   Your name might sound great to you when you s...\n",
              "215362  \\nUnderstand the process of relief printing.,\\...  ...   Relief printing is the oldest and most tradit...\n",
              "215363  \\nUnderstand the process of intaglio printing....  ...   Intaglio is Italian for \"incis­ing,\" and corr...\n",
              "215364  \\nUnderstand the different varieties of lithog...  ...   Lithography is a big term often used to refer...\n",
              "\n",
              "[209178 rows x 3 columns]"
            ]
          },
          "metadata": {
            "tags": []
          },
          "execution_count": 7
        }
      ]
    },
    {
      "cell_type": "code",
      "metadata": {
        "id": "smqXBGEtee-3",
        "colab_type": "code",
        "colab": {}
      },
      "source": [
        "stop_words = set(stopwords.words('english')) \n",
        "\n",
        "def text_cleaner(text,num):\n",
        "  str = text.lower()\n",
        "  str = BeautifulSoup(str, \"lxml\").text\n",
        "  str = re.sub(r'\\([^)]*\\)', '', str)\n",
        "  str = re.sub('\"','', str)\n",
        "  str = ' '.join([contraction_mapping[t] if t in contraction_mapping else t for t in str.split(\" \")])    \n",
        "  str = re.sub(r\"'s\\b\",\"\",str)\n",
        "  str = re.sub(\"[^a-zA-Z]\", \" \", str) \n",
        "  str = re.sub('[m]{2,}', 'mm', str)\n",
        "  if(num==0):\n",
        "    str = re.sub(r'\\.',' . ',str)\n",
        "  if(num==0):\n",
        "      tokens = [w for w in str.split() if not w in stop_words]\n",
        "      \n",
        "  else:\n",
        "      tokens=str.split()\n",
        "  long_words=[]\n",
        "  for i in tokens:\n",
        "      if len(i)>1:          #removing short words\n",
        "          long_words.append(i)\n",
        "  return (\" \".join(long_words)).strip()"
      ],
      "execution_count": 0,
      "outputs": []
    },
    {
      "cell_type": "code",
      "metadata": {
        "id": "WktFRr81eg4j",
        "colab_type": "code",
        "colab": {}
      },
      "source": [
        "contraction_mapping = {\"ain't\": \"is not\", \"aren't\": \"are not\",\"can't\": \"cannot\", \"'cause\": \"because\", \"could've\": \"could have\", \"couldn't\": \"could not\",\"didn't\": \"did not\", \"doesn't\": \"does not\", \"don't\": \"do not\", \"hadn't\": \"had not\", \"hasn't\": \"has not\", \"haven't\": \"have not\",\"he'd\": \"he would\",\"he'll\": \"he will\", \"he's\": \"he is\", \"how'd\": \"how did\", \"how'd'y\": \"how do you\", \"how'll\": \"how will\", \"how's\": \"how is\",\"I'd\": \"I would\", \"I'd've\": \"I would have\", \"I'll\": \"I will\", \"I'll've\": \"I will have\",\"I'm\": \"I am\", \"I've\": \"I have\", \"i'd\": \"i would\",\"i'd've\": \"i would have\", \"i'll\": \"i will\",  \"i'll've\": \"i will have\",\"i'm\": \"i am\", \"i've\": \"i have\", \"isn't\": \"is not\", \"it'd\": \"it would\",\"it'd've\": \"it would have\", \"it'll\": \"it will\", \"it'll've\": \"it will have\",\"it's\": \"it is\", \"let's\": \"let us\", \"ma'am\": \"madam\",\"mayn't\": \"may not\", \"might've\": \"might have\",\"mightn't\": \"might not\",\"mightn't've\": \"might not have\", \"must've\": \"must have\",\"mustn't\": \"must not\", \"mustn't've\": \"must not have\", \"needn't\": \"need not\", \"needn't've\": \"need not have\",\"o'clock\": \"of the clock\",\"oughtn't\": \"ought not\", \"oughtn't've\": \"ought not have\", \"shan't\": \"shall not\", \"sha'n't\": \"shall not\", \"shan't've\": \"shall not have\",\"she'd\": \"she would\", \"she'd've\": \"she would have\", \"she'll\": \"she will\", \"she'll've\": \"she will have\", \"she's\": \"she is\",\"should've\": \"should have\", \"shouldn't\": \"should not\", \"shouldn't've\": \"should not have\", \"so've\": \"so have\",\"so's\": \"so as\",\"this's\": \"this is\",\"that'd\": \"that would\", \"that'd've\": \"that would have\", \"that's\": \"that is\", \"there'd\": \"there would\",\"there'd've\": \"there would have\", \"there's\": \"there is\", \"here's\": \"here is\",\"they'd\": \"they would\", \"they'd've\": \"they would have\",\"they'll\": \"they will\", \"they'll've\": \"they will have\", \"they're\": \"they are\", \"they've\": \"they have\", \"to've\": \"to have\",\"wasn't\": \"was not\", \"we'd\": \"we would\", \"we'd've\": \"we would have\", \"we'll\": \"we will\", \"we'll've\": \"we will have\", \"we're\": \"we are\",\"we've\": \"we have\", \"weren't\": \"were not\", \"what'll\": \"what will\", \"what'll've\": \"what will have\", \"what're\": \"what are\",\"what's\": \"what is\", \"what've\": \"what have\", \"when's\": \"when is\", \"when've\": \"when have\", \"where'd\": \"where did\", \"where's\": \"where is\",\"where've\": \"where have\", \"who'll\": \"who will\", \"who'll've\": \"who will have\", \"who's\": \"who is\", \"who've\": \"who have\",\"why's\": \"why is\", \"why've\": \"why have\", \"will've\": \"will have\", \"won't\": \"will not\", \"won't've\": \"will not have\",\"would've\": \"would have\", \"wouldn't\": \"would not\", \"wouldn't've\": \"would not have\", \"y'all\": \"you all\",\"y'all'd\": \"you all would\",\"y'all'd've\": \"you all would have\",\"y'all're\": \"you all are\",\"y'all've\": \"you all have\",\"you'd\": \"you would\", \"you'd've\": \"you would have\", \"you'll\": \"you will\", \"you'll've\": \"you will have\",\"you're\": \"you are\", \"you've\": \"you have\"}"
      ],
      "execution_count": 0,
      "outputs": []
    },
    {
      "cell_type": "code",
      "metadata": {
        "id": "8r4sAn9MeitH",
        "colab_type": "code",
        "colab": {}
      },
      "source": [
        "#call the function\n",
        "clean_text = []\n",
        "for t in df['text']:\n",
        "    clean_text.append(text_cleaner(t,0))"
      ],
      "execution_count": 0,
      "outputs": []
    },
    {
      "cell_type": "code",
      "metadata": {
        "id": "XYypqoYGekJa",
        "colab_type": "code",
        "colab": {}
      },
      "source": [
        "#call the function\n",
        "clean_summary = []\n",
        "for t in df['headline']:\n",
        "    clean_summary.append(text_cleaner(t,0))"
      ],
      "execution_count": 0,
      "outputs": []
    },
    {
      "cell_type": "code",
      "metadata": {
        "id": "yjbNXqKgelhG",
        "colab_type": "code",
        "colab": {}
      },
      "source": [
        "df['text']=clean_text\n",
        "df['headline']=clean_summary\n",
        "\n",
        "df.replace('', np.nan, inplace=True)\n",
        "df.dropna(axis=0,inplace=True)"
      ],
      "execution_count": 0,
      "outputs": []
    },
    {
      "cell_type": "markdown",
      "metadata": {
        "id": "sD6BTcGserQS",
        "colab_type": "text"
      },
      "source": [
        "Analyzing the sequence distribution"
      ]
    },
    {
      "cell_type": "code",
      "metadata": {
        "id": "K3ph13qgenFe",
        "colab_type": "code",
        "outputId": "fb7efe8e-0438-4a92-f229-b4f944a30165",
        "colab": {
          "base_uri": "https://localhost:8080/",
          "height": 281
        }
      },
      "source": [
        "import matplotlib.pyplot as plt\n",
        "text_word_count = []\n",
        "headline_word_count = []\n",
        "\n",
        "# populate the lists with sentence lengths\n",
        "for i in df['text']:\n",
        "      temp=i.split()\n",
        "      text_word_count.append(len(temp))\n",
        "\n",
        "for j in df['headline']:\n",
        "  #print(j)\n",
        "  temp1=j.split()\n",
        "  headline_word_count.append(len(temp1))\n",
        "\n",
        "length_df = pd.DataFrame({'text':text_word_count, 'headline':headline_word_count})\n",
        "length_df.hist(bins = 30,range=[0,1000])\n",
        "plt.show()"
      ],
      "execution_count": 0,
      "outputs": [
        {
          "output_type": "display_data",
          "data": {
            "image/png": "[encoded data removed]",
            "text/plain": [
              "<Figure size 432x288 with 2 Axes>"
            ]
          },
          "metadata": {
            "tags": [],
            "needs_background": "light"
          }
        }
      ]
    },
    {
      "cell_type": "code",
      "metadata": {
        "id": "becxtmAFewPn",
        "colab_type": "code",
        "colab": {}
      },
      "source": [
        "# From the graph\n",
        "# We can fix maximum length of text = 150 since most of the reviews have a length of 150 and maximum headline length of 50, since maximum headlines are of size 50\n",
        "\n",
        "max_len_text= 150\n",
        "max_len_headline=50"
      ],
      "execution_count": 0,
      "outputs": []
    },
    {
      "cell_type": "code",
      "metadata": {
        "id": "9fHaefdFezFu",
        "colab_type": "code",
        "outputId": "21a65d09-ac51-49c9-dac4-0305a0d8f5a3",
        "colab": {
          "base_uri": "https://localhost:8080/",
          "height": 34
        }
      },
      "source": [
        "cnt=0\n",
        "for i in df['text']:\n",
        "    if(len(i.split())<=150):\n",
        "        cnt=cnt+1\n",
        "print(cnt/len(df['text']))"
      ],
      "execution_count": 0,
      "outputs": [
        {
          "output_type": "stream",
          "text": [
            "0.4835318078351504\n"
          ],
          "name": "stdout"
        }
      ]
    },
    {
      "cell_type": "markdown",
      "metadata": {
        "id": "mKc3wuxGe3GN",
        "colab_type": "text"
      },
      "source": [
        "Selecting text and headlines below the maximum lengths "
      ]
    },
    {
      "cell_type": "code",
      "metadata": {
        "id": "QVwgzEMIe0YY",
        "colab_type": "code",
        "colab": {}
      },
      "source": [
        "text1 =np.array(df['text'])\n",
        "headline1=np.array(df['headline'])\n",
        "\n",
        "short_text=[]\n",
        "short_summary=[]\n",
        "\n",
        "for i in range(len(text1)):\n",
        "    if(len(headline1[i].split())<=50 and len(text1[i].split())<=150):\n",
        "        short_text.append(text1[i])\n",
        "        short_summary.append(headline1[i])\n",
        "        \n",
        "df=pd.DataFrame({'text':short_text,'summary':short_summary})"
      ],
      "execution_count": 0,
      "outputs": []
    },
    {
      "cell_type": "code",
      "metadata": {
        "id": "dvcB2AFJe5nC",
        "colab_type": "code",
        "colab": {}
      },
      "source": [
        "# Validating the lengths\n",
        "\n",
        "text1 =np.array(df['text'])\n",
        "headline1=np.array(df['summary'])\n",
        "\n",
        "\n",
        "for i in range(len(text1)):\n",
        "    if(len(headline1[i].split())>=150):\n",
        "      print(i)\n"
      ],
      "execution_count": 0,
      "outputs": []
    },
    {
      "cell_type": "code",
      "metadata": {
        "id": "tYcH03qLe6sp",
        "colab_type": "code",
        "outputId": "2c9224a0-998a-4943-886a-da00a7b571eb",
        "colab": {
          "base_uri": "https://localhost:8080/",
          "height": 70
        }
      },
      "source": [
        "print(df['text'][50],df['summary'][50],sep='\\n')"
      ],
      "execution_count": 0,
      "outputs": [
        {
          "output_type": "stream",
          "text": [
            "guy like every facebook status update instagram picture post better yet frequently comment posts sign wants interact may indicate likes look see comments people posts well comments frequently may reveal avid social media user however rarely likes comments posts sign might feelings publicly comments one photos posts respond eager start conversation way may reveal likes least enjoys messaging example may say great photo could respond saying vancouver last week beautiful city guy met starts liking commenting old photos sig interested means spent time looking back old photos probably wants know better enjoys looking pictures guy likes want connect follow variety different social media platforms example may add facebook snapchat start following twitter instagram adding number social media sites likely sign wants look posts photos selfies attempt get know better\n",
            "see interacts posts reply comments notice comments old pictures posts check see added multiple social media platforms\n"
          ],
          "name": "stdout"
        }
      ]
    },
    {
      "cell_type": "markdown",
      "metadata": {
        "id": "9osSaQmJe-s9",
        "colab_type": "text"
      },
      "source": [
        "**Splitting data into train, test  --  70 - 30**"
      ]
    },
    {
      "cell_type": "code",
      "metadata": {
        "id": "Xb5TVd5He8dA",
        "colab_type": "code",
        "colab": {}
      },
      "source": [
        "from sklearn.model_selection import train_test_split\n",
        "x_train,x_test,y_train,y_test=train_test_split(df['text'],df['summary'],test_size=0.3,random_state=0,shuffle=True) "
      ],
      "execution_count": 0,
      "outputs": []
    },
    {
      "cell_type": "code",
      "metadata": {
        "id": "LYFhEegofAOE",
        "colab_type": "code",
        "outputId": "26b3170d-6004-425d-e8d2-880bd5da6b11",
        "colab": {
          "base_uri": "https://localhost:8080/",
          "height": 50
        }
      },
      "source": [
        "print(len(x_train))\n",
        "print(len(x_test))"
      ],
      "execution_count": 0,
      "outputs": [
        {
          "output_type": "stream",
          "text": [
            "59677\n",
            "25576\n"
          ],
          "name": "stdout"
        }
      ]
    },
    {
      "cell_type": "markdown",
      "metadata": {
        "id": "KsnA_isBfCEH",
        "colab_type": "text"
      },
      "source": [
        "Language Translation Model"
      ]
    },
    {
      "cell_type": "code",
      "metadata": {
        "id": "x3s-nOM9fBVy",
        "colab_type": "code",
        "colab": {}
      },
      "source": [
        "from __future__ import unicode_literals, print_function, division\n",
        "from io import open\n",
        "import unicodedata\n",
        "import string\n",
        "import re\n",
        "import random\n",
        "\n",
        "import torch\n",
        "import torch.nn as nn\n",
        "from torch import optim\n",
        "import torch.nn.functional as F\n",
        "\n",
        "device = torch.device(\"cuda\" if torch.cuda.is_available() else \"cpu\")"
      ],
      "execution_count": 0,
      "outputs": []
    },
    {
      "cell_type": "code",
      "metadata": {
        "id": "4FUR67hXfILP",
        "colab_type": "code",
        "colab": {}
      },
      "source": [
        "SOS_token = 0\n",
        "EOS_token = 1\n",
        "\n",
        "class Lang:\n",
        "    def __init__(self, name):\n",
        "        self.name = name\n",
        "        self.word2index = {}\n",
        "        self.word2count = {}\n",
        "        self.index2word = {0: \"SOS\", 1: \"EOS\"}\n",
        "        self.n_words = 2  # Count SOS and EOS\n",
        "\n",
        "    def addSentence(self, sentence):\n",
        "        for word in sentence.split(' '):\n",
        "            self.addWord(word)\n",
        "\n",
        "    def addWord(self, word):\n",
        "        if word not in self.word2index:\n",
        "            self.word2index[word] = self.n_words\n",
        "            self.word2count[word] = 1\n",
        "            self.index2word[self.n_words] = word\n",
        "            self.n_words += 1\n",
        "        else:\n",
        "            self.word2count[word] += 1"
      ],
      "execution_count": 0,
      "outputs": []
    },
    {
      "cell_type": "code",
      "metadata": {
        "id": "BXc__27yfKZk",
        "colab_type": "code",
        "colab": {}
      },
      "source": [
        "def readLangs(text, summary, reverse=False):\n",
        "    print(\"Reading lines...\")\n",
        "    \n",
        "    # Split every line into pairs and normalize\n",
        "    text=np.array(text)\n",
        "    summary=np.array(summary)\n",
        "    pairs = [[text[i],summary[i]] for i in range(len(text))]\n",
        "\n",
        "    # Reverse pairs, make Lang instances\n",
        "    if reverse:\n",
        "        pairs = [list(reversed(p)) for p in pairs]\n",
        "        input_lang = Lang(summary)\n",
        "        output_lang = Lang(text)\n",
        "    else:\n",
        "        input_lang = Lang(text)\n",
        "        output_lang = Lang(summary)\n",
        "\n",
        "    return input_lang, output_lang, pairs"
      ],
      "execution_count": 0,
      "outputs": []
    },
    {
      "cell_type": "code",
      "metadata": {
        "id": "sNkG1MnOfMY6",
        "colab_type": "code",
        "colab": {}
      },
      "source": [
        "def prepareData(lang1, lang2, reverse=False):\n",
        "    input_lang, output_lang, pairs = readLangs(lang1, lang2, reverse)\n",
        "    print(\"Read %s sentence pairs\" % len(pairs))\n",
        "    print(\"Counting words...\")\n",
        "    for pair in pairs:\n",
        "        input_lang.addSentence(pair[0])\n",
        "        output_lang.addSentence(pair[1])\n",
        "    print(\"Counted words:\")\n",
        "    print(input_lang.name, input_lang.n_words)\n",
        "    print(output_lang.name, output_lang.n_words)\n",
        "    return input_lang, output_lang, pairs"
      ],
      "execution_count": 0,
      "outputs": []
    },
    {
      "cell_type": "code",
      "metadata": {
        "id": "AI95WhJdfN-D",
        "colab_type": "code",
        "outputId": "1560a233-c704-40c4-83b3-28e829c7a8cf",
        "colab": {
          "base_uri": "https://localhost:8080/",
          "height": 339
        }
      },
      "source": [
        "input_lang, output_lang, pairs = prepareData(x_train, y_train , False)\n",
        "print(random.choice(pairs))"
      ],
      "execution_count": 0,
      "outputs": [
        {
          "output_type": "stream",
          "text": [
            "Reading lines...\n",
            "Read 59677 sentence pairs\n",
            "Counting words...\n",
            "Counted words:\n",
            "['save hardware later use remove styrofoam lining necessary proper fit grind sand ensure perfect fit'\n",
            " 'use mug microwave safe suitable drinking handle good shape mug must large enough make brownie make sure mug also hard sturdy glass mug mix wet ingredients together metal spoon break egg yolk pushing breaking yolk gently slowly add dry ingredient mixture stir well combined beating egg yolk adding wet ingredients mixture make brownie light fluffy place mug microwave operate minute seconds bakes puff rise fully cooked remove microwave oven mitts place safe place gets burned mistakenly cool minutes avoid spills brownie cooking place small dish bowl beneath mug helps catch brownie mix leaking microwave floor test brownie ready poke toothpick middle comes dry ready scoop vanilla ice cream sprinkle chocolate sprinkles add chopped walnuts spread marshmallow fluff creative many topping decisions choose go choosing serve enjoy eating brownie either eat brownie mug remove enjoy sweet delicious brownie'\n",
            " 'consolidator make sure travel agent use member professional organization like universal federation travel agents association national association career travel agents also look reviews travel agents consumer affairs website better business bureau whether booking business flight group travel others best meet travel agent first time person gives chance meet agent discuss specific travel needs longer conversation phone email allow make sure ask travel agents plenty questions clarify details trip know fees top price ticket help hotline call travel plans disrupted also ask travel agent best way communicate prefer phone email particularly important need contact travel met travel agent create schedule due dates phases trip includes knowing need traveler information agent need copies passports ids payments final payments due'\n",
            " ...\n",
            " 'app gray gear usually located home screen top half page near top page phone ringer sound adjusting able hear volume level setting want change alarm volume future slide change buttons setting position setting underneath volume slider enable adjust alarm volume using iphone volume buttons phone unlocked'\n",
            " 'make sure latest version downloaded google play store options bottom screen based availability vehicles area uberx cars seat passengers least expensive uber service get picked car like prius honda accord similar uberxl cars seat passengers cost uberx rides get picked either suv minivan uberselect entry level luxury car service uberselect cars seat get picked bmw mercedes audi something similar leather interior uberpool allows share ride split cost trip another rider headed direction uberblack uber luxury service expensive expect picked professional driver typically driving black suv luxury sedan box magnifying glass left side pickup location automatically set based gps need change tap pickup location box green dot left side type pickup address tap pickup address update pickup location request sent ride approved information driver appear receive message driver minute away'\n",
            " 'matter kind long yummy repeat necessary confectioner sugar'] 59885\n",
            "['remove factory installed rear bumper trim panel line new body kit rear bumper make sure lines correctly use factory bumper template drill new holes new body kit rear bumper install onto car factory hardware'\n",
            " 'find good mug cooking mix ingredients heat microwave minute seconds add desired toppings serve'\n",
            " 'check credentials meet travel agent person ask questions create schedule'\n",
            " ... 'open settings tap sounds slide ringer alerts volume desired level'\n",
            " 'tap uber app tap service type review economy options drag ride button right larger vehicles drag ride button right premium options drag ride button right special accommodation vehicles tap set pickup location tap destination location type destination tap destination address tap request uber wait driver'\n",
            " 'make toast gather ingredients slather nutella toast place banana slices top cinnamon sugar done put last piece bread put little butter top piece bread make sure melted time put chocolate sauce like'] 34996\n",
            "['find warren buffett twitter account https twitter com warrenbuffett note twitter page updated frequently may take time sees tweet even see expect reply method contact best used intend send quick comment require response', 'tweet']\n"
          ],
          "name": "stdout"
        }
      ]
    },
    {
      "cell_type": "markdown",
      "metadata": {
        "id": "a7m31nE3fWqz",
        "colab_type": "text"
      },
      "source": [
        "Deep Model"
      ]
    },
    {
      "cell_type": "code",
      "metadata": {
        "id": "RI8g3CTJfPKl",
        "colab_type": "code",
        "colab": {}
      },
      "source": [
        "SOS_token = 0\n",
        "EOS_token = 1"
      ],
      "execution_count": 0,
      "outputs": []
    },
    {
      "cell_type": "code",
      "metadata": {
        "id": "O5DMPIAVfY-r",
        "colab_type": "code",
        "colab": {}
      },
      "source": [
        "def indexesFromSentence(lang, sentence):\n",
        "    return [lang.word2index[word] for word in sentence.split(' ')]\n",
        "\n",
        "def tensorFromSentence(lang, sentence):\n",
        "    indexes = indexesFromSentence(lang, sentence)\n",
        "    indexes.append(EOS_token)\n",
        "    return torch.tensor(indexes, dtype=torch.long, device=device).view(-1, 1)\n",
        "\n",
        "def tensorsFromPair(pair):\n",
        "    input_tensor = tensorFromSentence(input_lang, pair[0])\n",
        "    target_tensor = tensorFromSentence(output_lang, pair[1])\n",
        "    return (input_tensor, target_tensor)"
      ],
      "execution_count": 0,
      "outputs": []
    },
    {
      "cell_type": "code",
      "metadata": {
        "id": "oC_7am4mfaAL",
        "colab_type": "code",
        "colab": {}
      },
      "source": [
        "from __future__ import unicode_literals, print_function, division\n",
        "from io import open\n",
        "import unicodedata\n",
        "import string\n",
        "import re\n",
        "import random\n",
        "\n",
        "import torch\n",
        "import torch.nn as nn\n",
        "from torch import optim\n",
        "import torch.nn.functional as F\n",
        "\n",
        "device = torch.device(\"cuda\" if torch.cuda.is_available() else \"cpu\")"
      ],
      "execution_count": 0,
      "outputs": []
    },
    {
      "cell_type": "code",
      "metadata": {
        "id": "zVWgewjGfblN",
        "colab_type": "code",
        "colab": {}
      },
      "source": [
        "class EncoderRNN(nn.Module):\n",
        "    def __init__(self, input_size, hidden_size):\n",
        "        super(EncoderRNN, self).__init__()\n",
        "        self.hidden_size = hidden_size\n",
        "\n",
        "        self.embedding = nn.Embedding(input_size, hidden_size)\n",
        "        self.gru = nn.GRU(hidden_size, hidden_size)\n",
        "\n",
        "    def forward(self, input, hidden):\n",
        "        embedded = self.embedding(input).view(1, 1, -1)\n",
        "        output = embedded\n",
        "        output, hidden = self.gru(output, hidden)\n",
        "        return output, hidden\n",
        "\n",
        "    def initHidden(self):\n",
        "        return torch.zeros(1, 1, self.hidden_size, device=device)"
      ],
      "execution_count": 0,
      "outputs": []
    },
    {
      "cell_type": "code",
      "metadata": {
        "id": "-CD6w3XQfloq",
        "colab_type": "code",
        "colab": {}
      },
      "source": [
        "class DecoderRNN(nn.Module):\n",
        "    def __init__(self, hidden_size, output_size):\n",
        "        super(DecoderRNN, self).__init__()\n",
        "        self.hidden_size = hidden_size\n",
        "\n",
        "        self.embedding = nn.Embedding(output_size, hidden_size)\n",
        "        self.gru = nn.GRU(hidden_size, hidden_size)\n",
        "        self.out = nn.Linear(hidden_size, output_size)\n",
        "        self.softmax = nn.LogSoftmax(dim=1)\n",
        "\n",
        "    def forward(self, input, hidden):\n",
        "        output = self.embedding(input).view(1, 1, -1)\n",
        "        output = F.relu(output)\n",
        "        output, hidden = self.gru(output, hidden)\n",
        "        output = self.softmax(self.out(output[0]))\n",
        "        return output, hidden\n",
        "\n",
        "    def initHidden(self):\n",
        "        return torch.zeros(1, 1, self.hidden_size, device=device)"
      ],
      "execution_count": 0,
      "outputs": []
    },
    {
      "cell_type": "code",
      "metadata": {
        "id": "4jLJEQpPfnV4",
        "colab_type": "code",
        "colab": {}
      },
      "source": [
        "MAX_LENGTH = 150"
      ],
      "execution_count": 0,
      "outputs": []
    },
    {
      "cell_type": "code",
      "metadata": {
        "id": "_BgSwYNNfpWH",
        "colab_type": "code",
        "colab": {}
      },
      "source": [
        "class AttnDecoderRNN(nn.Module):\n",
        "    def __init__(self, hidden_size, output_size, dropout_p=0.1, max_length=MAX_LENGTH):\n",
        "        super(AttnDecoderRNN, self).__init__()\n",
        "        self.hidden_size = hidden_size\n",
        "        self.output_size = output_size\n",
        "        self.dropout_p = dropout_p\n",
        "        self.max_length = max_length\n",
        "\n",
        "        self.embedding = nn.Embedding(self.output_size, self.hidden_size)\n",
        "        self.attn = nn.Linear(self.hidden_size * 2, self.max_length)\n",
        "        self.attn_combine = nn.Linear(self.hidden_size * 2, self.hidden_size)\n",
        "        self.dropout = nn.Dropout(self.dropout_p)\n",
        "        self.gru = nn.GRU(self.hidden_size, self.hidden_size)\n",
        "        self.out = nn.Linear(self.hidden_size, self.output_size)\n",
        "\n",
        "    def forward(self, input, hidden, encoder_outputs):\n",
        "        embedded = self.embedding(input).view(1, 1, -1)\n",
        "        embedded = self.dropout(embedded)\n",
        "\n",
        "        attn_weights = F.softmax(\n",
        "            self.attn(torch.cat((embedded[0], hidden[0]), 1)), dim=1)\n",
        "        attn_applied = torch.bmm(attn_weights.unsqueeze(0),\n",
        "                                 encoder_outputs.unsqueeze(0))\n",
        "\n",
        "        output = torch.cat((embedded[0], attn_applied[0]), 1)\n",
        "        output = self.attn_combine(output).unsqueeze(0)\n",
        "\n",
        "        output = F.relu(output)\n",
        "        output, hidden = self.gru(output, hidden)\n",
        "\n",
        "        output = F.log_softmax(self.out(output[0]), dim=1)\n",
        "        return output, hidden, attn_weights\n",
        "\n",
        "    def initHidden(self):\n",
        "        return torch.zeros(1, 1, self.hidden_size, device=device)"
      ],
      "execution_count": 0,
      "outputs": []
    },
    {
      "cell_type": "code",
      "metadata": {
        "id": "lNbZhLkwfrT3",
        "colab_type": "code",
        "colab": {}
      },
      "source": [
        "def indexesFromSentence(lang, sentence):\n",
        "    return [lang.word2index[word] for word in sentence.split(' ')]\n",
        "\n",
        "\n",
        "def tensorFromSentence(lang, sentence):\n",
        "    indexes = indexesFromSentence(lang, sentence)\n",
        "    indexes.append(EOS_token)\n",
        "    return torch.tensor(indexes, dtype=torch.long, device=device).view(-1, 1)\n",
        "\n",
        "\n",
        "def tensorsFromPair(pair):\n",
        "    input_tensor = tensorFromSentence(input_lang, pair[0])\n",
        "    target_tensor = tensorFromSentence(output_lang, pair[1])\n",
        "    return (input_tensor, target_tensor)"
      ],
      "execution_count": 0,
      "outputs": []
    },
    {
      "cell_type": "code",
      "metadata": {
        "id": "rmVp28I4gx0L",
        "colab_type": "code",
        "colab": {}
      },
      "source": [
        "import time\n",
        "import math\n",
        "\n",
        "\n",
        "def asMinutes(s):\n",
        "    m = math.floor(s / 60)\n",
        "    s -= m * 60\n",
        "    return '%dm %ds' % (m, s)\n",
        "\n",
        "\n",
        "def timeSince(since, percent):\n",
        "    now = time.time()\n",
        "    s = now - since\n",
        "    es = s / (percent)\n",
        "    rs = es - s\n",
        "    return '%s (- %s)' % (asMinutes(s), asMinutes(rs))"
      ],
      "execution_count": 0,
      "outputs": []
    },
    {
      "cell_type": "code",
      "metadata": {
        "id": "PowpwxXyKTeT",
        "colab_type": "code",
        "colab": {}
      },
      "source": [
        "import matplotlib.pyplot as plt\n",
        "plt.switch_backend('agg')\n",
        "import matplotlib.ticker as ticker\n",
        "import numpy as np\n",
        "\n",
        "\n",
        "def showPlot(points):\n",
        "    plt.figure()\n",
        "    fig, ax = plt.subplots()\n",
        "    # this locator puts ticks at regular intervals\n",
        "    loc = ticker.MultipleLocator(base=0.2)\n",
        "    ax.yaxis.set_major_locator(loc)\n",
        "    plt.plot(points)"
      ],
      "execution_count": 0,
      "outputs": []
    },
    {
      "cell_type": "code",
      "metadata": {
        "id": "ne_OJj66ftIT",
        "colab_type": "code",
        "colab": {}
      },
      "source": [
        "teacher_forcing_ratio = 0.5\n",
        "def train(input_tensor, target_tensor, encoder, decoder, encoder_optimizer, decoder_optimizer, criterion, max_length=MAX_LENGTH):\n",
        "    encoder_hidden = encoder.initHidden()\n",
        "\n",
        "    encoder_optimizer.zero_grad()\n",
        "    decoder_optimizer.zero_grad()\n",
        "\n",
        "    input_length = input_tensor.size(0)\n",
        "    target_length = target_tensor.size(0)\n",
        "\n",
        "    encoder_outputs = torch.zeros(max_length, encoder.hidden_size, device=device)\n",
        "\n",
        "    loss = 0\n",
        "\n",
        "    for ei in range(input_length):\n",
        "        encoder_output, encoder_hidden = encoder(\n",
        "            input_tensor[ei], encoder_hidden)\n",
        "        encoder_outputs[ei] = encoder_output[0, 0]\n",
        "\n",
        "    decoder_input = torch.tensor([[SOS_token]], device=device)\n",
        "\n",
        "    decoder_hidden = encoder_hidden\n",
        "\n",
        "    use_teacher_forcing = True if random.random() < teacher_forcing_ratio else False\n",
        "\n",
        "    if use_teacher_forcing:\n",
        "        # Teacher forcing: Feed the target as the next input\n",
        "        for di in range(target_length):\n",
        "            decoder_output, decoder_hidden, decoder_attention = decoder(\n",
        "                decoder_input, decoder_hidden, encoder_outputs)\n",
        "            loss += criterion(decoder_output, target_tensor[di])\n",
        "            decoder_input = target_tensor[di]  # Teacher forcing\n",
        "\n",
        "    else:\n",
        "        # Without teacher forcing: use its own predictions as the next input\n",
        "        for di in range(target_length):\n",
        "            decoder_output, decoder_hidden, decoder_attention = decoder(\n",
        "                decoder_input, decoder_hidden, encoder_outputs)\n",
        "            topv, topi = decoder_output.topk(1)\n",
        "            decoder_input = topi.squeeze().detach()  # detach from history as input\n",
        "\n",
        "            loss += criterion(decoder_output, target_tensor[di])\n",
        "            if decoder_input.item() == EOS_token:\n",
        "                break\n",
        "\n",
        "    loss.backward()\n",
        "\n",
        "    encoder_optimizer.step()\n",
        "    decoder_optimizer.step()\n",
        "\n",
        "    return loss.item() / target_length"
      ],
      "execution_count": 0,
      "outputs": []
    },
    {
      "cell_type": "code",
      "metadata": {
        "id": "hkUmPPWOfuw_",
        "colab_type": "code",
        "colab": {}
      },
      "source": [
        "def trainIters(encoder, decoder, n_iters, print_every=1000, plot_every=100, learning_rate=0.01):\n",
        "    print(\"Training....\")\n",
        "    start = time.time()\n",
        "    plot_losses = []\n",
        "    print_loss_total = 0  # Reset every print_every\n",
        "    plot_loss_total = 0  # Reset every plot_every\n",
        "\n",
        "    encoder_optimizer = optim.SGD(encoder.parameters(), lr=learning_rate)\n",
        "    decoder_optimizer = optim.SGD(decoder.parameters(), lr=learning_rate)\n",
        "    training_pairs = [tensorsFromPair(random.choice(pairs))\n",
        "                      for i in range(n_iters)]\n",
        "    criterion = nn.NLLLoss()\n",
        "\n",
        "    for iter in range(1, n_iters + 1):\n",
        "        if iter% 1000 == 0:\n",
        "            print(iter,\"/\",n_iters + 1)\n",
        "        training_pair = training_pairs[iter - 1]\n",
        "        input_tensor = training_pair[0]\n",
        "        target_tensor = training_pair[1]\n",
        "\n",
        "        input_length = input_tensor.size(0)\n",
        "        if(input_length > 150):\n",
        "          #print(input_length)\n",
        "          continue\n",
        "\n",
        "        loss = train(input_tensor, target_tensor, encoder,\n",
        "                     decoder, encoder_optimizer, decoder_optimizer, criterion)\n",
        "        print_loss_total += loss\n",
        "        plot_loss_total += loss\n",
        "\n",
        "        if iter % print_every == 0:\n",
        "            print_loss_avg = print_loss_total / print_every\n",
        "            print_loss_total = 0\n",
        "            print('%s (%d %d%%) %.4f' % (timeSince(start, iter / n_iters),\n",
        "                                         iter, iter / n_iters * 100, print_loss_avg))\n",
        "\n",
        "        if iter % plot_every == 0:\n",
        "            plot_loss_avg = plot_loss_total / plot_every\n",
        "            plot_losses.append(plot_loss_avg)\n",
        "            plot_loss_total = 0\n",
        "\n",
        "    showPlot(plot_losses)"
      ],
      "execution_count": 0,
      "outputs": []
    },
    {
      "cell_type": "code",
      "metadata": {
        "id": "k8AL_zkWfwRG",
        "colab_type": "code",
        "colab": {}
      },
      "source": [
        "def evaluate(encoder, decoder, sentence, max_length=MAX_LENGTH):\n",
        "    with torch.no_grad():\n",
        "        input_tensor = tensorFromSentence(input_lang, sentence)\n",
        "        input_length = input_tensor.size()[0]\n",
        "        encoder_hidden = encoder.initHidden()\n",
        "\n",
        "        encoder_outputs = torch.zeros(max_length, encoder.hidden_size, device=device)\n",
        "\n",
        "        for ei in range(input_length):\n",
        "            encoder_output, encoder_hidden = encoder(input_tensor[ei],\n",
        "                                                     encoder_hidden)\n",
        "            encoder_outputs[ei] += encoder_output[0, 0]\n",
        "\n",
        "        decoder_input = torch.tensor([[SOS_token]], device=device)  # SOS\n",
        "\n",
        "        decoder_hidden = encoder_hidden\n",
        "\n",
        "        decoded_words = []\n",
        "        decoder_attentions = torch.zeros(max_length, max_length)\n",
        "\n",
        "        for di in range(max_length):\n",
        "            decoder_output, decoder_hidden, decoder_attention = decoder(\n",
        "                decoder_input, decoder_hidden, encoder_outputs)\n",
        "            decoder_attentions[di] = decoder_attention.data\n",
        "            topv, topi = decoder_output.data.topk(1)\n",
        "            if topi.item() == EOS_token:\n",
        "                decoded_words.append('<EOS>')\n",
        "                break\n",
        "            else:\n",
        "                decoded_words.append(output_lang.index2word[topi.item()])\n",
        "\n",
        "            decoder_input = topi.squeeze().detach()\n",
        "\n",
        "        return decoded_words, decoder_attentions[:di + 1]\n"
      ],
      "execution_count": 0,
      "outputs": []
    },
    {
      "cell_type": "code",
      "metadata": {
        "id": "_E9u7A6_fx08",
        "colab_type": "code",
        "outputId": "42c3990a-88d6-4035-e431-03afdc38249d",
        "colab": {
          "base_uri": "https://localhost:8080/",
          "height": 1000
        }
      },
      "source": [
        "hidden_size = 300\n",
        "encoder1 = EncoderRNN(input_lang.n_words, hidden_size).to(device)\n",
        "attn_decoder1 = AttnDecoderRNN(hidden_size, output_lang.n_words, dropout_p=0.1).to(device)\n",
        "\n",
        "trainIters(encoder1, attn_decoder1, 150000, print_every=1000)"
      ],
      "execution_count": 47,
      "outputs": [
        {
          "output_type": "stream",
          "text": [
            "Training....\n",
            "1000 / 150001\n",
            "2m 15s (- 336m 49s) (1000 0%) 5.9627\n",
            "2000 / 150001\n",
            "4m 11s (- 309m 36s) (2000 1%) 5.7089\n",
            "3000 / 150001\n",
            "6m 10s (- 302m 49s) (3000 2%) 6.0220\n",
            "4000 / 150001\n",
            "8m 10s (- 298m 25s) (4000 2%) 5.7237\n",
            "5000 / 150001\n",
            "10m 8s (- 294m 9s) (5000 3%) 5.7627\n",
            "6000 / 150001\n",
            "12m 9s (- 291m 56s) (6000 4%) 5.8217\n",
            "7000 / 150001\n",
            "14m 9s (- 289m 14s) (7000 4%) 5.9252\n",
            "8000 / 150001\n",
            "16m 12s (- 287m 45s) (8000 5%) 5.8616\n",
            "9000 / 150001\n",
            "18m 13s (- 285m 24s) (9000 6%) 5.7532\n",
            "10000 / 150001\n",
            "20m 13s (- 283m 2s) (10000 6%) 5.7008\n",
            "11000 / 150001\n",
            "22m 12s (- 280m 41s) (11000 7%) 5.6502\n",
            "12000 / 150001\n",
            "24m 11s (- 278m 10s) (12000 8%) 5.5483\n",
            "13000 / 150001\n",
            "26m 9s (- 275m 43s) (13000 8%) 5.4885\n",
            "14000 / 150001\n",
            "28m 11s (- 273m 48s) (14000 9%) 5.7766\n",
            "15000 / 150001\n",
            "30m 12s (- 271m 55s) (15000 10%) 5.6461\n",
            "16000 / 150001\n",
            "32m 12s (- 269m 45s) (16000 10%) 5.5710\n",
            "17000 / 150001\n",
            "34m 15s (- 268m 1s) (17000 11%) 5.5959\n",
            "18000 / 150001\n",
            "36m 15s (- 265m 56s) (18000 12%) 5.5707\n",
            "19000 / 150001\n",
            "38m 16s (- 263m 53s) (19000 12%) 5.4484\n",
            "20000 / 150001\n",
            "40m 18s (- 262m 1s) (20000 13%) 5.7232\n",
            "21000 / 150001\n",
            "42m 22s (- 260m 16s) (21000 14%) 5.6144\n",
            "22000 / 150001\n",
            "44m 25s (- 258m 27s) (22000 14%) 5.6662\n",
            "23000 / 150001\n",
            "46m 28s (- 256m 39s) (23000 15%) 5.5910\n",
            "24000 / 150001\n",
            "48m 27s (- 254m 26s) (24000 16%) 5.4278\n",
            "25000 / 150001\n",
            "50m 30s (- 252m 33s) (25000 16%) 5.7025\n",
            "26000 / 150001\n",
            "52m 33s (- 250m 40s) (26000 17%) 5.5689\n",
            "27000 / 150001\n",
            "54m 35s (- 248m 40s) (27000 18%) 5.3345\n",
            "28000 / 150001\n",
            "56m 40s (- 246m 58s) (28000 18%) 5.5070\n",
            "29000 / 150001\n",
            "58m 43s (- 245m 0s) (29000 19%) 5.4170\n",
            "30000 / 150001\n",
            "60m 46s (- 243m 6s) (30000 20%) 5.6190\n",
            "31000 / 150001\n",
            "62m 45s (- 240m 55s) (31000 20%) 5.4168\n",
            "32000 / 150001\n",
            "64m 47s (- 238m 53s) (32000 21%) 5.5029\n",
            "33000 / 150001\n",
            "66m 48s (- 236m 53s) (33000 22%) 5.3741\n",
            "34000 / 150001\n",
            "68m 54s (- 235m 5s) (34000 22%) 5.5722\n",
            "35000 / 150001\n",
            "70m 56s (- 233m 6s) (35000 23%) 5.4638\n",
            "36000 / 150001\n",
            "73m 2s (- 231m 17s) (36000 24%) 5.5252\n",
            "37000 / 150001\n",
            "75m 5s (- 229m 19s) (37000 24%) 5.5652\n",
            "38000 / 150001\n",
            "77m 6s (- 227m 16s) (38000 25%) 5.3783\n",
            "39000 / 150001\n",
            "79m 11s (- 225m 23s) (39000 26%) 5.5611\n",
            "40000 / 150001\n",
            "81m 15s (- 223m 27s) (40000 26%) 5.5141\n",
            "41000 / 150001\n",
            "83m 18s (- 221m 29s) (41000 27%) 5.3389\n",
            "42000 / 150001\n",
            "85m 20s (- 219m 28s) (42000 28%) 5.4806\n",
            "43000 / 150001\n",
            "87m 23s (- 217m 28s) (43000 28%) 5.4277\n",
            "44000 / 150001\n",
            "89m 25s (- 215m 26s) (44000 29%) 5.3443\n",
            "45000 / 150001\n",
            "91m 28s (- 213m 26s) (45000 30%) 5.4131\n",
            "46000 / 150001\n",
            "93m 31s (- 211m 27s) (46000 30%) 5.3950\n",
            "47000 / 150001\n",
            "95m 36s (- 209m 31s) (47000 31%) 5.5003\n",
            "48000 / 150001\n",
            "97m 41s (- 207m 35s) (48000 32%) 5.4637\n",
            "49000 / 150001\n",
            "99m 43s (- 205m 33s) (49000 32%) 5.4373\n",
            "50000 / 150001\n",
            "51000 / 150001\n",
            "103m 54s (- 201m 43s) (51000 34%) 11.0042\n",
            "52000 / 150001\n",
            "105m 57s (- 199m 40s) (52000 34%) 5.4150\n",
            "53000 / 150001\n",
            "107m 59s (- 197m 39s) (53000 35%) 5.3635\n",
            "54000 / 150001\n",
            "110m 2s (- 195m 37s) (54000 36%) 5.2600\n",
            "55000 / 150001\n",
            "112m 7s (- 193m 39s) (55000 36%) 5.4342\n",
            "56000 / 150001\n",
            "114m 10s (- 191m 39s) (56000 37%) 5.4765\n",
            "57000 / 150001\n",
            "116m 14s (- 189m 38s) (57000 38%) 5.4616\n",
            "58000 / 150001\n",
            "118m 18s (- 187m 39s) (58000 38%) 5.4031\n",
            "59000 / 150001\n",
            "120m 22s (- 185m 40s) (59000 39%) 5.4289\n",
            "60000 / 150001\n",
            "122m 28s (- 183m 42s) (60000 40%) 5.3636\n",
            "61000 / 150001\n",
            "124m 34s (- 181m 45s) (61000 40%) 5.4223\n",
            "62000 / 150001\n",
            "126m 39s (- 179m 45s) (62000 41%) 5.4248\n",
            "63000 / 150001\n",
            "128m 45s (- 177m 48s) (63000 42%) 5.4887\n",
            "64000 / 150001\n",
            "130m 48s (- 175m 46s) (64000 42%) 5.2807\n",
            "65000 / 150001\n",
            "132m 51s (- 173m 44s) (65000 43%) 5.2072\n",
            "66000 / 150001\n",
            "134m 53s (- 171m 40s) (66000 44%) 5.1955\n",
            "67000 / 150001\n",
            "136m 54s (- 169m 36s) (67000 44%) 5.2314\n",
            "68000 / 150001\n",
            "139m 0s (- 167m 37s) (68000 45%) 5.4359\n",
            "69000 / 150001\n",
            "141m 5s (- 165m 37s) (69000 46%) 5.3149\n",
            "70000 / 150001\n",
            "143m 8s (- 163m 35s) (70000 46%) 5.4626\n",
            "71000 / 150001\n",
            "145m 12s (- 161m 33s) (71000 47%) 5.3601\n",
            "72000 / 150001\n",
            "147m 14s (- 159m 31s) (72000 48%) 5.3001\n",
            "73000 / 150001\n",
            "149m 16s (- 157m 27s) (73000 48%) 5.3137\n",
            "74000 / 150001\n",
            "75000 / 150001\n",
            "153m 24s (- 153m 24s) (75000 50%) 10.6361\n",
            "76000 / 150001\n",
            "155m 27s (- 151m 21s) (76000 50%) 5.3556\n",
            "77000 / 150001\n",
            "157m 29s (- 149m 18s) (77000 51%) 5.2111\n",
            "78000 / 150001\n",
            "159m 36s (- 147m 19s) (78000 52%) 5.4020\n",
            "79000 / 150001\n",
            "161m 40s (- 145m 18s) (79000 52%) 5.2681\n",
            "80000 / 150001\n",
            "163m 46s (- 143m 18s) (80000 53%) 5.3972\n",
            "81000 / 150001\n",
            "165m 52s (- 141m 18s) (81000 54%) 5.3613\n",
            "82000 / 150001\n",
            "167m 57s (- 139m 16s) (82000 54%) 5.3356\n",
            "83000 / 150001\n",
            "170m 0s (- 137m 14s) (83000 55%) 5.2140\n",
            "84000 / 150001\n",
            "172m 6s (- 135m 13s) (84000 56%) 5.3952\n",
            "85000 / 150001\n",
            "174m 9s (- 133m 10s) (85000 56%) 5.2318\n",
            "86000 / 150001\n",
            "176m 12s (- 131m 8s) (86000 57%) 5.2382\n",
            "87000 / 150001\n",
            "178m 23s (- 129m 10s) (87000 57%) 5.3766\n",
            "88000 / 150001\n",
            "180m 30s (- 127m 10s) (88000 58%) 5.2600\n",
            "89000 / 150001\n",
            "182m 34s (- 125m 7s) (89000 59%) 5.3130\n",
            "90000 / 150001\n",
            "184m 40s (- 123m 7s) (90000 60%) 5.2234\n",
            "91000 / 150001\n",
            "186m 43s (- 121m 3s) (91000 60%) 5.2722\n",
            "92000 / 150001\n",
            "188m 49s (- 119m 2s) (92000 61%) 5.4776\n",
            "93000 / 150001\n",
            "190m 49s (- 116m 57s) (93000 62%) 5.1334\n",
            "94000 / 150001\n",
            "192m 49s (- 114m 52s) (94000 62%) 5.1920\n",
            "95000 / 150001\n",
            "194m 54s (- 112m 50s) (95000 63%) 5.2327\n",
            "96000 / 150001\n",
            "196m 57s (- 110m 47s) (96000 64%) 5.2344\n",
            "97000 / 150001\n",
            "198m 59s (- 108m 43s) (97000 64%) 5.2501\n",
            "98000 / 150001\n",
            "201m 3s (- 106m 40s) (98000 65%) 5.2027\n",
            "99000 / 150001\n",
            "203m 7s (- 104m 38s) (99000 66%) 5.3231\n",
            "100000 / 150001\n",
            "205m 13s (- 102m 36s) (100000 66%) 5.3411\n",
            "101000 / 150001\n",
            "207m 17s (- 100m 34s) (101000 67%) 5.0571\n",
            "102000 / 150001\n",
            "209m 19s (- 98m 30s) (102000 68%) 5.3126\n",
            "103000 / 150001\n",
            "211m 25s (- 96m 28s) (103000 68%) 5.3879\n",
            "104000 / 150001\n",
            "213m 30s (- 94m 26s) (104000 69%) 5.3141\n",
            "105000 / 150001\n",
            "215m 33s (- 92m 22s) (105000 70%) 5.3527\n",
            "106000 / 150001\n",
            "217m 36s (- 90m 19s) (106000 70%) 5.2149\n",
            "107000 / 150001\n",
            "219m 43s (- 88m 18s) (107000 71%) 5.3059\n",
            "108000 / 150001\n",
            "109000 / 150001\n",
            "223m 52s (- 84m 12s) (109000 72%) 10.6087\n",
            "110000 / 150001\n",
            "225m 57s (- 82m 10s) (110000 73%) 5.2360\n",
            "111000 / 150001\n",
            "228m 0s (- 80m 6s) (111000 74%) 5.2239\n",
            "112000 / 150001\n",
            "230m 7s (- 78m 4s) (112000 74%) 5.1982\n",
            "113000 / 150001\n",
            "232m 14s (- 76m 2s) (113000 75%) 5.3046\n",
            "114000 / 150001\n",
            "234m 21s (- 74m 0s) (114000 76%) 5.2595\n",
            "115000 / 150001\n",
            "236m 31s (- 71m 59s) (115000 76%) 5.2873\n",
            "116000 / 150001\n",
            "238m 39s (- 69m 56s) (116000 77%) 5.2958\n",
            "117000 / 150001\n",
            "240m 45s (- 67m 54s) (117000 78%) 5.3870\n",
            "118000 / 150001\n",
            "242m 50s (- 65m 51s) (118000 78%) 5.2996\n",
            "119000 / 150001\n",
            "244m 58s (- 63m 49s) (119000 79%) 5.1594\n",
            "120000 / 150001\n",
            "247m 9s (- 61m 47s) (120000 80%) 5.3970\n",
            "121000 / 150001\n",
            "249m 13s (- 59m 43s) (121000 80%) 5.2118\n",
            "122000 / 150001\n",
            "251m 18s (- 57m 40s) (122000 81%) 5.2304\n",
            "123000 / 150001\n",
            "253m 21s (- 55m 36s) (123000 82%) 5.1734\n",
            "124000 / 150001\n",
            "255m 25s (- 53m 33s) (124000 82%) 5.2803\n",
            "125000 / 150001\n",
            "257m 31s (- 51m 30s) (125000 83%) 5.2342\n",
            "126000 / 150001\n",
            "259m 33s (- 49m 26s) (126000 84%) 5.1282\n",
            "127000 / 150001\n",
            "261m 39s (- 47m 23s) (127000 84%) 5.2438\n",
            "128000 / 150001\n",
            "263m 46s (- 45m 20s) (128000 85%) 5.1925\n",
            "129000 / 150001\n",
            "265m 48s (- 43m 16s) (129000 86%) 5.2853\n",
            "130000 / 150001\n",
            "267m 53s (- 41m 12s) (130000 86%) 5.2385\n",
            "131000 / 150001\n",
            "269m 58s (- 39m 9s) (131000 87%) 5.3098\n",
            "132000 / 150001\n",
            "272m 5s (- 37m 6s) (132000 88%) 5.1227\n",
            "133000 / 150001\n",
            "274m 12s (- 35m 2s) (133000 88%) 5.2603\n",
            "134000 / 150001\n",
            "276m 16s (- 32m 59s) (134000 89%) 5.0864\n",
            "135000 / 150001\n",
            "278m 20s (- 30m 55s) (135000 90%) 5.2391\n",
            "136000 / 150001\n",
            "280m 26s (- 28m 52s) (136000 90%) 5.0913\n",
            "137000 / 150001\n",
            "282m 31s (- 26m 48s) (137000 91%) 5.3166\n",
            "138000 / 150001\n",
            "284m 40s (- 24m 45s) (138000 92%) 5.1939\n",
            "139000 / 150001\n",
            "286m 46s (- 22m 41s) (139000 92%) 5.2532\n",
            "140000 / 150001\n",
            "288m 51s (- 20m 37s) (140000 93%) 5.1177\n",
            "141000 / 150001\n",
            "291m 1s (- 18m 34s) (141000 94%) 5.2174\n",
            "142000 / 150001\n",
            "293m 8s (- 16m 30s) (142000 94%) 5.2319\n",
            "143000 / 150001\n",
            "295m 16s (- 14m 27s) (143000 95%) 5.1989\n",
            "144000 / 150001\n",
            "297m 21s (- 12m 23s) (144000 96%) 5.2443\n",
            "145000 / 150001\n",
            "299m 28s (- 10m 19s) (145000 96%) 5.1860\n",
            "146000 / 150001\n",
            "301m 33s (- 8m 15s) (146000 97%) 5.1095\n",
            "147000 / 150001\n",
            "303m 37s (- 6m 11s) (147000 98%) 5.2376\n",
            "148000 / 150001\n",
            "305m 42s (- 4m 7s) (148000 98%) 5.2398\n",
            "149000 / 150001\n",
            "307m 45s (- 2m 3s) (149000 99%) 5.2206\n",
            "150000 / 150001\n",
            "309m 48s (- 0m 0s) (150000 100%) 5.1935\n"
          ],
          "name": "stdout"
        },
        {
          "output_type": "display_data",
          "data": {
            "text/plain": [
              "<Figure size 432x288 with 0 Axes>"
            ]
          },
          "metadata": {
            "tags": []
          }
        },
        {
          "output_type": "display_data",
          "data": {
            "image/png": "[encoded data removed]",
            "text/plain": [
              "<Figure size 432x288 with 1 Axes>"
            ]
          },
          "metadata": {
            "tags": [],
            "needs_background": "light"
          }
        }
      ]
    },
    {
      "cell_type": "code",
      "metadata": {
        "id": "TbAEKnoS-dw7",
        "colab_type": "code",
        "colab": {}
      },
      "source": [
        ""
      ],
      "execution_count": 0,
      "outputs": []
    },
    {
      "cell_type": "code",
      "metadata": {
        "id": "nUvPetkBf0a9",
        "colab_type": "code",
        "colab": {}
      },
      "source": [
        "def evaluateRandomly(encoder, decoder, n=5):\n",
        "    text=list()\n",
        "    headline=list()\n",
        "    pred_headline=list()    \n",
        "    for i in range(n):\n",
        "        pair = random.choice(pairs)\n",
        "        \n",
        "        if(len(pair[0].split())>=150):\n",
        "          continue\n",
        "        else:\n",
        "          if(i%1000==0):\n",
        "            print(i*100/n,\"% complete\")\n",
        "          \n",
        "          #print('>', pair[0])\n",
        "          text.append(pair[0])\n",
        "          #print('=', pair[1])\n",
        "          headline.append(pair[1])\n",
        "          output_words, attentions = evaluate(encoder, decoder, pair[0])\n",
        "          output_sentence = ' '.join(output_words)\n",
        "          pred_headline.append(output_sentence)\n",
        "          #print('<', output_sentence)\n",
        "          #print('')\n",
        "    return(text,headline,pred_headline)"
      ],
      "execution_count": 0,
      "outputs": []
    },
    {
      "cell_type": "code",
      "metadata": {
        "id": "xUHCkrSfhOB4",
        "colab_type": "code",
        "outputId": "cffb58c5-36dc-4aae-ad4e-5dfe0908de33",
        "colab": {
          "base_uri": "https://localhost:8080/",
          "height": 269
        }
      },
      "source": [
        "text,headline,pred_headline=evaluateRandomly(encoder1, attn_decoder1,15000)\n",
        "\n",
        "pred_df_GRU=pd.DataFrame()\n",
        "\n",
        "pred_df_GRU['text']=text\n",
        "pred_df_GRU['headline']=headline\n",
        "pred_df_GRU['pred_headline']=pred_headline"
      ],
      "execution_count": 114,
      "outputs": [
        {
          "output_type": "stream",
          "text": [
            "0.0 % complete\n",
            "6.666666666666667 % complete\n",
            "13.333333333333334 % complete\n",
            "20.0 % complete\n",
            "26.666666666666668 % complete\n",
            "33.333333333333336 % complete\n",
            "40.0 % complete\n",
            "46.666666666666664 % complete\n",
            "53.333333333333336 % complete\n",
            "60.0 % complete\n",
            "66.66666666666667 % complete\n",
            "73.33333333333333 % complete\n",
            "80.0 % complete\n",
            "86.66666666666667 % complete\n",
            "93.33333333333333 % complete\n"
          ],
          "name": "stdout"
        }
      ]
    },
    {
      "cell_type": "code",
      "metadata": {
        "id": "yQ4MaZEOhTWj",
        "colab_type": "code",
        "colab": {}
      },
      "source": [
        "import os\n",
        "os.chdir ('/content/drive/My Drive/IDS_576_Project')\n",
        "pred_df_GRU.to_csv('Attention_GRU_Pred.csv',sep='\\t',index=False,header=True)"
      ],
      "execution_count": 0,
      "outputs": []
    },
    {
      "cell_type": "code",
      "metadata": {
        "id": "z9D_OaDUNWjd",
        "colab_type": "code",
        "colab": {}
      },
      "source": [
        "def calculate_rogue(src_trg, pred_trg):\n",
        "      \n",
        "  #cut off <eos> token\n",
        "  pred_trg = pred_trg[:-6]\n",
        "\n",
        "  \n",
        "  if (len(pred_trg) == 0):\n",
        "    rogue_score = 0.0\n",
        "  else:\n",
        "    s = rouge.get_scores(pred_trg, src_trg, avg= True)\n",
        "    rogue_score = s['rouge-1']['f']\n",
        "    \n",
        "  return rogue_score"
      ],
      "execution_count": 0,
      "outputs": []
    },
    {
      "cell_type": "code",
      "metadata": {
        "id": "a5mk0oXQNfuu",
        "colab_type": "code",
        "colab": {}
      },
      "source": [
        "attn_plot_threshold = 0.45\n",
        "\n",
        "def evaluateRandomlyprint_1(encoder, decoder, n=5):\n",
        "    text=list()\n",
        "    headline=list()\n",
        "    pred_headline=list()    \n",
        "\n",
        "    for i in range(n):\n",
        "        pair = random.choice(pairs)\n",
        "        \n",
        "        if(len(pair[0].split())>=150):\n",
        "          continue\n",
        "        else:\n",
        "          #if(i%1000==0):\n",
        "           # print(i*100/n,\"% complete\")\n",
        "          \n",
        "          tokenized_input = nltk.word_tokenize(pair[0])\n",
        "          #print(len(tokenized_input))\n",
        "          output_words, attentions = evaluate(encoder, decoder, pair[0])\n",
        "\n",
        "          output_sentence = ' '.join(output_words)\n",
        "\n",
        "          #get rogue f-score -- need to pass tokenized version here\n",
        "          #print(pair[0])\n",
        "          #print(output_sentence)\n",
        "          score = calculate_rogue(pair[0], output_sentence)\n",
        "          #if(score>0.25):\n",
        "           # print(score)\n",
        "\n",
        "          if score > attn_plot_threshold:\n",
        "            plot_attention(tokenized_input, output_words, attentions, i)\n",
        "          \n",
        "          #print('<', output_sentence)\n",
        "          #print('')\n",
        "    #return(text,headline,pred_headline)"
      ],
      "execution_count": 0,
      "outputs": []
    },
    {
      "cell_type": "code",
      "metadata": {
        "id": "ZzkivB-DXLvW",
        "colab_type": "code",
        "colab": {}
      },
      "source": [
        "#sentence, translation, attention\n",
        "def plot_attention(sentence, predicted_sentence, attention, i):\n",
        "  plt.rcParams.update({'font.size': 18})\n",
        "\n",
        "  fig = plt.figure(figsize=(30,30))\n",
        "\n",
        "  ax = fig.add_subplot(1,1,1)\n",
        "  #print(len(attention))  \n",
        "  ax.matshow(attention, cmap='bone')\n",
        "  #fig.colorbar(cax)\n",
        "  #fontdict = {'fontsize': 25}\n",
        "\n",
        "  #ax.set_xticklabels([''] + sentence.split(' ') +['<EOS>'], rotation=90)\n",
        "  #ax.set_yticklabels([''] + predicted_sentence)\n",
        "\n",
        "  ax.set_xticklabels(['']+['<sos>']+[t.lower() for t in sentence]+['<eos>'], rotation=90)\n",
        "  ax.set_yticklabels(['']+predicted_sentence)\n",
        "\n",
        "  ax.xaxis.set_major_locator(ticker.MultipleLocator(3))\n",
        "  ax.yaxis.set_major_locator(ticker.MultipleLocator(3))\n",
        "  #xlim(right=3)\n",
        "\n",
        "  plt.show()\n",
        "  #plt.close()"
      ],
      "execution_count": 0,
      "outputs": []
    },
    {
      "cell_type": "code",
      "metadata": {
        "id": "UideDTnDNqn2",
        "colab_type": "code",
        "outputId": "152c2eef-7fcf-4851-e240-935385dd4dbf",
        "colab": {
          "base_uri": "https://localhost:8080/",
          "height": 1000
        }
      },
      "source": [
        "!pip install rouge\n",
        "import nltk\n",
        "nltk.download('punkt')\n",
        "from rouge import Rouge\n",
        "\n",
        "rouge = Rouge()\n",
        "\n",
        "\n",
        "evaluateRandomlyprint_1(encoder1, attn_decoder1,15000)\n",
        "#plt.close()"
      ],
      "execution_count": 259,
      "outputs": [
        {
          "output_type": "stream",
          "text": [
            "Requirement already satisfied: rouge in /usr/local/lib/python3.6/dist-packages (1.0.0)\n",
            "Requirement already satisfied: six in /usr/local/lib/python3.6/dist-packages (from rouge) (1.12.0)\n",
            "[nltk_data] Downloading package punkt to /root/nltk_data...\n",
            "[nltk_data]   Package punkt is already up-to-date!\n"
          ],
          "name": "stdout"
        },
        {
          "output_type": "display_data",
          "data": {
            "image/png": "[encoded data removed]",
            "text/plain": [
              "<Figure size 2160x2160 with 1 Axes>"
            ]
          },
          "metadata": {
            "tags": [],
            "needs_background": "light"
          }
        },
        {
          "output_type": "display_data",
          "data": {
            "image/png": "[encoded data removed]",
            "text/plain": [
              "<Figure size 2160x2160 with 1 Axes>"
            ]
          },
          "metadata": {
            "tags": [],
            "needs_background": "light"
          }
        },
        {
          "output_type": "display_data",
          "data": {
            "image/png": "[encoded data removed]",
            "text/plain": [
              "<Figure size 2160x2160 with 1 Axes>"
            ]
          },
          "metadata": {
            "tags": [],
            "needs_background": "light"
          }
        },
        {
          "output_type": "display_data",
          "data": {
            "image/png": "[encoded data removed]",
            "text/plain": [
              "<Figure size 2160x2160 with 1 Axes>"
            ]
          },
          "metadata": {
            "tags": [],
            "needs_background": "light"
          }
        },
        {
          "output_type": "display_data",
          "data": {
            "image/png": "[encoded data removed]",
            "text/plain": [
              "<Figure size 2160x2160 with 1 Axes>"
            ]
          },
          "metadata": {
            "tags": [],
            "needs_background": "light"
          }
        }
      ]
    }
  ]
}